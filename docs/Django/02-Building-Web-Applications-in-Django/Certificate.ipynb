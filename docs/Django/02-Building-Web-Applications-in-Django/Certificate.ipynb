{
 "cells": [
  {
   "cell_type": "markdown",
   "metadata": {},
   "source": [
    "![Alt text](\"https://gisyaliny.github.io/python/Django/02-Building-Web-Applications-in-Django/Certificate.pdf\"){ type=application/pdf style=\"min-height:25vh;width:100%\" }\n"
   ]
  }
 ],
 "metadata": {
  "kernelspec": {
   "display_name": "mybase",
   "language": "python",
   "name": "python3"
  },
  "language_info": {
   "name": "python",
   "version": "3.11.4"
  }
 },
 "nbformat": 4,
 "nbformat_minor": 2
}
