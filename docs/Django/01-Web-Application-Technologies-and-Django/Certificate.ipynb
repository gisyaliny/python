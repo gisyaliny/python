{
 "cells": [
  {
   "cell_type": "markdown",
   "metadata": {},
   "source": [
    "![Alt text](\"https://gisyaliny.github.io/python/Django/01-Web-Application-Technologies-and-Django/Certificate.pdf\"){ type=application/pdf style=\"min-height:25vh;width:100%\" }\n"
   ]
  }
 ],
 "metadata": {
  "language_info": {
   "name": "python"
  }
 },
 "nbformat": 4,
 "nbformat_minor": 2
}
