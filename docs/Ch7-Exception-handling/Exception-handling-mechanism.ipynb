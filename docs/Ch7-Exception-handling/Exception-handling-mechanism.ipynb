{
 "cells": [
  {
   "cell_type": "markdown",
   "metadata": {},
   "source": [
    "# Exception handling mechanism"
   ]
  },
  {
   "cell_type": "markdown",
   "metadata": {},
   "source": [
    "## 1. Use `try...except` to catch the exception\n",
    "#### The expression of `try...except` as following\n",
    "* `try:`   \n",
    "    `# the main body`   \n",
    "`except(Error1,Error2,...) as e:`   \n",
    "    `alert message`   \n",
    "    `goto retry`   \n",
    "    \n",
    "If Python get a exception but not be catched by any except module, the entire program would be crashed"
   ]
  },
  {
   "cell_type": "markdown",
   "metadata": {},
   "source": [
    "**Here is a simple go game example**"
   ]
  },
  {
   "cell_type": "code",
   "execution_count": 2,
   "metadata": {},
   "outputs": [
    {
     "name": "stdout",
     "output_type": "stream",
     "text": [
      "+++++\n",
      "+++++\n",
      "+++++\n",
      "+++++\n",
      "+++++\n",
      "Please input the coordinates with \"x,y\" style: \n",
      "1,1\n",
      "●++++\n",
      "+++++\n",
      "+++++\n",
      "+++++\n",
      "+++++\n",
      "There already have a piece, please re-input2,3\n",
      "●++++\n",
      "+++++\n",
      "+●+++\n",
      "+++++\n",
      "+++++\n",
      "There already have a piece, please re-inputdone\n",
      "Your input is illegal, please re-inputDone\n"
     ]
    }
   ],
   "source": [
    "board_size = 5\n",
    "board = []\n",
    "def initBoard():\n",
    "    for i in range(board_size):\n",
    "        row  = ['+'] * board_size\n",
    "        board.append(row)\n",
    "\n",
    "def printBoard():\n",
    "    for i in range(board_size):\n",
    "        for j in range(board_size):\n",
    "            print(board[i][j], end = '')\n",
    "        # equal to print('\\n')\n",
    "        print()\n",
    "initBoard()\n",
    "printBoard()\n",
    "\n",
    "inputStr = input('Please input the coordinates with \"x,y\" style: \\n')\n",
    "while inputStr!= 'Done':\n",
    "    try:\n",
    "        x_str,y_str = inputStr.split(sep=',')\n",
    "        if board[int(y_str)-1][int(x_str) - 1] != '+':\n",
    "            inputStr = input('There already have a piece, please re-input')\n",
    "            continue\n",
    "        board[int(y_str)-1][int(x_str)-1] = '●'\n",
    "        printBoard()\n",
    "    except Exception:\n",
    "        inputStr = input('Your input is illegal, please re-input')\n",
    "        continue\n",
    "        "
   ]
  },
  {
   "cell_type": "markdown",
   "metadata": {},
   "source": [
    "## 2. `Exception` in Python\n",
    "![exception](https://overiq.com/wp-content/uploads/2018/11/exception-class-hierarchy.png)"
   ]
  },
  {
   "cell_type": "code",
   "execution_count": 3,
   "metadata": {},
   "outputs": [
    {
     "name": "stdout",
     "output_type": "stream",
     "text": [
      "Value Error: could only input integers\n"
     ]
    }
   ],
   "source": [
    "import sys\n",
    "try:\n",
    "    a = int(sys.argv[1])\n",
    "    b = int(sys.argv[2])\n",
    "    c = a / b\n",
    "    print('The quotient is :',c)\n",
    "except IndexError:\n",
    "    print('index error: not enough input parameters')\n",
    "except ValueError:\n",
    "    print('Value Error: could only input integers')\n",
    "except ArithmeticError:\n",
    "    print('The denominator is 0')\n",
    "except Exception:\n",
    "    print('Unkown error')"
   ]
  },
  {
   "cell_type": "markdown",
   "metadata": {},
   "source": [
    "## 3. Handling multiple errors"
   ]
  },
  {
   "cell_type": "code",
   "execution_count": 5,
   "metadata": {},
   "outputs": [
    {
     "name": "stdout",
     "output_type": "stream",
     "text": [
      "one of IndexError, ValueError and ArithmeticError happened\n"
     ]
    }
   ],
   "source": [
    "try:\n",
    "    a = int(sys.argv[1])\n",
    "    b = int(sys.argv[2])\n",
    "    c = a / b\n",
    "    print('The quotient is :',c)\n",
    "except(IndexError,ValueError,ArithmeticError):\n",
    "    print('one of IndexError, ValueError and ArithmeticError happened')\n",
    "except:\n",
    "    print('Unkown error')"
   ]
  },
  {
   "cell_type": "markdown",
   "metadata": {},
   "source": [
    "## 4. Access error messages\n",
    "Every instance of `Exception` contains the following properties:\n",
    "* args: The index of the exception and it's descriptions\n",
    "* errno: The index of the exception\n",
    "* strerror: The description string of the exception\n",
    "* with_traceback(): See the trajectory of the exception"
   ]
  },
  {
   "cell_type": "code",
   "execution_count": 11,
   "metadata": {},
   "outputs": [
    {
     "name": "stdout",
     "output_type": "stream",
     "text": [
      "(2, 'No such file or directory')\n",
      "No such file or directory\n",
      "2\n"
     ]
    }
   ],
   "source": [
    "def foo():\n",
    "    try:\n",
    "        fis = open('a.text')\n",
    "    except Exception as e:\n",
    "        # Get the index of the exception and it's descriptions\n",
    "        print(e.args)\n",
    "#         print(e.with_traceback())\n",
    "        print(e.strerror)\n",
    "        print(e.errno)\n",
    "foo()"
   ]
  },
  {
   "cell_type": "markdown",
   "metadata": {},
   "source": [
    "## 5. `else` module\n",
    "If there is no error within the `try` section, the program would go to the `else` part"
   ]
  },
  {
   "cell_type": "code",
   "execution_count": 12,
   "metadata": {},
   "outputs": [
    {
     "name": "stdout",
     "output_type": "stream",
     "text": [
      "Please input the denominator5\n",
      "the quotient between 20 and 5 is 4\n",
      "No exception\n"
     ]
    }
   ],
   "source": [
    "s = input('Please input the denominator')\n",
    "try:\n",
    "    result = 20/ int(s)\n",
    "    print('the quotient between 20 and %s is %g' %(s,result))\n",
    "except ValueError:\n",
    "    print('input error')\n",
    "except ArithmeticError:\n",
    "    print('Could not input 0')\n",
    "else:\n",
    "    print('No exception')"
   ]
  },
  {
   "cell_type": "code",
   "execution_count": 14,
   "metadata": {},
   "outputs": [
    {
     "name": "stdout",
     "output_type": "stream",
     "text": [
      "try section, no exception\n",
      "Please input the denominator0\n",
      "Error!\n",
      "--------------------------------\n",
      "try section, no exception\n",
      "Please input the denominator0\n"
     ]
    },
    {
     "ename": "ZeroDivisionError",
     "evalue": "division by zero",
     "output_type": "error",
     "traceback": [
      "\u001b[1;31m---------------------------------------------------------------------------\u001b[0m",
      "\u001b[1;31mZeroDivisionError\u001b[0m                         Traceback (most recent call last)",
      "\u001b[1;32m<ipython-input-14-34ba1fdcad25>\u001b[0m in \u001b[0;36m<module>\u001b[1;34m\u001b[0m\n\u001b[0;32m     18\u001b[0m \u001b[0mwrong_main\u001b[0m\u001b[1;33m(\u001b[0m\u001b[1;33m)\u001b[0m\u001b[1;33m\u001b[0m\u001b[1;33m\u001b[0m\u001b[0m\n\u001b[0;32m     19\u001b[0m \u001b[0mprint\u001b[0m\u001b[1;33m(\u001b[0m\u001b[1;34m'--------------------------------'\u001b[0m\u001b[1;33m)\u001b[0m\u001b[1;33m\u001b[0m\u001b[1;33m\u001b[0m\u001b[0m\n\u001b[1;32m---> 20\u001b[1;33m \u001b[0mright_main\u001b[0m\u001b[1;33m(\u001b[0m\u001b[1;33m)\u001b[0m\u001b[1;33m\u001b[0m\u001b[1;33m\u001b[0m\u001b[0m\n\u001b[0m",
      "\u001b[1;32m<ipython-input-14-34ba1fdcad25>\u001b[0m in \u001b[0;36mright_main\u001b[1;34m()\u001b[0m\n\u001b[0;32m      9\u001b[0m         \u001b[0mprint\u001b[0m\u001b[1;33m(\u001b[0m\u001b[1;34m'Error!'\u001b[0m\u001b[1;33m)\u001b[0m\u001b[1;33m\u001b[0m\u001b[1;33m\u001b[0m\u001b[0m\n\u001b[0;32m     10\u001b[0m     \u001b[1;32melse\u001b[0m\u001b[1;33m:\u001b[0m\u001b[1;33m\u001b[0m\u001b[1;33m\u001b[0m\u001b[0m\n\u001b[1;32m---> 11\u001b[1;33m         \u001b[0melse_test\u001b[0m\u001b[1;33m(\u001b[0m\u001b[1;33m)\u001b[0m\u001b[1;33m\u001b[0m\u001b[1;33m\u001b[0m\u001b[0m\n\u001b[0m\u001b[0;32m     12\u001b[0m \u001b[1;32mdef\u001b[0m \u001b[0mwrong_main\u001b[0m\u001b[1;33m(\u001b[0m\u001b[1;33m)\u001b[0m\u001b[1;33m:\u001b[0m\u001b[1;33m\u001b[0m\u001b[1;33m\u001b[0m\u001b[0m\n\u001b[0;32m     13\u001b[0m     \u001b[1;32mtry\u001b[0m\u001b[1;33m:\u001b[0m\u001b[1;33m\u001b[0m\u001b[1;33m\u001b[0m\u001b[0m\n",
      "\u001b[1;32m<ipython-input-14-34ba1fdcad25>\u001b[0m in \u001b[0;36melse_test\u001b[1;34m()\u001b[0m\n\u001b[0;32m      1\u001b[0m \u001b[1;32mdef\u001b[0m \u001b[0melse_test\u001b[0m\u001b[1;33m(\u001b[0m\u001b[1;33m)\u001b[0m\u001b[1;33m:\u001b[0m\u001b[1;33m\u001b[0m\u001b[1;33m\u001b[0m\u001b[0m\n\u001b[0;32m      2\u001b[0m     \u001b[0ms\u001b[0m \u001b[1;33m=\u001b[0m \u001b[0minput\u001b[0m\u001b[1;33m(\u001b[0m\u001b[1;34m'Please input the denominator'\u001b[0m\u001b[1;33m)\u001b[0m\u001b[1;33m\u001b[0m\u001b[1;33m\u001b[0m\u001b[0m\n\u001b[1;32m----> 3\u001b[1;33m     \u001b[0mresult\u001b[0m \u001b[1;33m=\u001b[0m \u001b[1;36m20\u001b[0m \u001b[1;33m/\u001b[0m \u001b[0mint\u001b[0m\u001b[1;33m(\u001b[0m\u001b[0ms\u001b[0m\u001b[1;33m)\u001b[0m\u001b[1;33m\u001b[0m\u001b[1;33m\u001b[0m\u001b[0m\n\u001b[0m\u001b[0;32m      4\u001b[0m     \u001b[0mprint\u001b[0m\u001b[1;33m(\u001b[0m\u001b[1;34m'the quotient between 20 and %s is %g'\u001b[0m \u001b[1;33m%\u001b[0m\u001b[1;33m(\u001b[0m\u001b[0ms\u001b[0m\u001b[1;33m,\u001b[0m\u001b[0mresult\u001b[0m\u001b[1;33m)\u001b[0m\u001b[1;33m)\u001b[0m\u001b[1;33m\u001b[0m\u001b[1;33m\u001b[0m\u001b[0m\n\u001b[0;32m      5\u001b[0m \u001b[1;32mdef\u001b[0m \u001b[0mright_main\u001b[0m\u001b[1;33m(\u001b[0m\u001b[1;33m)\u001b[0m\u001b[1;33m:\u001b[0m\u001b[1;33m\u001b[0m\u001b[1;33m\u001b[0m\u001b[0m\n",
      "\u001b[1;31mZeroDivisionError\u001b[0m: division by zero"
     ]
    }
   ],
   "source": [
    "def else_test():\n",
    "    s = input('Please input the denominator')\n",
    "    result = 20 / int(s)\n",
    "    print('the quotient between 20 and %s is %g' %(s,result))\n",
    "def right_main():\n",
    "    try:\n",
    "        print('try section, no exception')\n",
    "    except:\n",
    "        print('Error!')\n",
    "    else:\n",
    "        else_test()\n",
    "def wrong_main():\n",
    "    try:\n",
    "        print('try section, no exception')\n",
    "        else_test()\n",
    "    except:\n",
    "        print('Error!')\n",
    "wrong_main()\n",
    "print('--------------------------------')\n",
    "right_main()"
   ]
  },
  {
   "cell_type": "markdown",
   "metadata": {},
   "source": [
    "## 6.`finally` module\n",
    "* No matter there is error within `try` section or not, the code in `final` module would be excuted.   \n",
    "* Because of that, **do not use `return` or `raise` in `finally` part**"
   ]
  },
  {
   "cell_type": "code",
   "execution_count": 15,
   "metadata": {},
   "outputs": [
    {
     "name": "stdout",
     "output_type": "stream",
     "text": [
      "No such file or directory\n",
      "Perform finally part!\n"
     ]
    }
   ],
   "source": [
    "import os\n",
    "def test():\n",
    "    fis = None\n",
    "    try:\n",
    "        fis = open('a.text')\n",
    "    except OSError as e:\n",
    "        print(e.strerror)\n",
    "        return\n",
    "    finally:\n",
    "        if fis is not None:\n",
    "            try:\n",
    "                fis.close()\n",
    "            except OSError as ios:\n",
    "                print(ios.strerror)\n",
    "        print('Perform finally part!')\n",
    "test()"
   ]
  },
  {
   "cell_type": "markdown",
   "metadata": {},
   "source": [
    "## 7. `Raise` an exception\n",
    "* `raise`: would raise a `RuntimeError` or get the error in the `except` part\n",
    "* `raise xxxError`"
   ]
  },
  {
   "cell_type": "code",
   "execution_count": 17,
   "metadata": {},
   "outputs": [
    {
     "name": "stdout",
     "output_type": "stream",
     "text": [
      "Get an error\n"
     ]
    },
    {
     "ename": "ValueError",
     "evalue": "a > 0!",
     "output_type": "error",
     "traceback": [
      "\u001b[1;31m---------------------------------------------------------------------------\u001b[0m",
      "\u001b[1;31mValueError\u001b[0m                                Traceback (most recent call last)",
      "\u001b[1;32m<ipython-input-17-5053f72e6bfc>\u001b[0m in \u001b[0;36m<module>\u001b[1;34m\u001b[0m\n\u001b[0;32m      9\u001b[0m     \u001b[1;32mif\u001b[0m \u001b[0ma\u001b[0m \u001b[1;33m>\u001b[0m \u001b[1;36m0\u001b[0m\u001b[1;33m:\u001b[0m\u001b[1;33m\u001b[0m\u001b[1;33m\u001b[0m\u001b[0m\n\u001b[0;32m     10\u001b[0m         \u001b[1;32mraise\u001b[0m \u001b[0mValueError\u001b[0m\u001b[1;33m(\u001b[0m\u001b[1;34m'a > 0!'\u001b[0m\u001b[1;33m)\u001b[0m\u001b[1;33m\u001b[0m\u001b[1;33m\u001b[0m\u001b[0m\n\u001b[1;32m---> 11\u001b[1;33m \u001b[0mmain\u001b[0m\u001b[1;33m(\u001b[0m\u001b[1;33m)\u001b[0m\u001b[1;33m\u001b[0m\u001b[1;33m\u001b[0m\u001b[0m\n\u001b[0m\u001b[0;32m     12\u001b[0m \u001b[1;33m\u001b[0m\u001b[0m\n",
      "\u001b[1;32m<ipython-input-17-5053f72e6bfc>\u001b[0m in \u001b[0;36mmain\u001b[1;34m()\u001b[0m\n\u001b[0;32m      4\u001b[0m     \u001b[1;32mexcept\u001b[0m \u001b[0mException\u001b[0m \u001b[1;32mas\u001b[0m \u001b[0me\u001b[0m\u001b[1;33m:\u001b[0m\u001b[1;33m\u001b[0m\u001b[1;33m\u001b[0m\u001b[0m\n\u001b[0;32m      5\u001b[0m         \u001b[0mprint\u001b[0m\u001b[1;33m(\u001b[0m\u001b[1;34m'Get an error'\u001b[0m\u001b[1;33m)\u001b[0m\u001b[1;33m\u001b[0m\u001b[1;33m\u001b[0m\u001b[0m\n\u001b[1;32m----> 6\u001b[1;33m     \u001b[0mmtd\u001b[0m\u001b[1;33m(\u001b[0m\u001b[1;36m3\u001b[0m\u001b[1;33m)\u001b[0m\u001b[1;33m\u001b[0m\u001b[1;33m\u001b[0m\u001b[0m\n\u001b[0m\u001b[0;32m      7\u001b[0m \u001b[1;33m\u001b[0m\u001b[0m\n\u001b[0;32m      8\u001b[0m \u001b[1;32mdef\u001b[0m \u001b[0mmtd\u001b[0m\u001b[1;33m(\u001b[0m\u001b[0ma\u001b[0m\u001b[1;33m)\u001b[0m\u001b[1;33m:\u001b[0m\u001b[1;33m\u001b[0m\u001b[1;33m\u001b[0m\u001b[0m\n",
      "\u001b[1;32m<ipython-input-17-5053f72e6bfc>\u001b[0m in \u001b[0;36mmtd\u001b[1;34m(a)\u001b[0m\n\u001b[0;32m      8\u001b[0m \u001b[1;32mdef\u001b[0m \u001b[0mmtd\u001b[0m\u001b[1;33m(\u001b[0m\u001b[0ma\u001b[0m\u001b[1;33m)\u001b[0m\u001b[1;33m:\u001b[0m\u001b[1;33m\u001b[0m\u001b[1;33m\u001b[0m\u001b[0m\n\u001b[0;32m      9\u001b[0m     \u001b[1;32mif\u001b[0m \u001b[0ma\u001b[0m \u001b[1;33m>\u001b[0m \u001b[1;36m0\u001b[0m\u001b[1;33m:\u001b[0m\u001b[1;33m\u001b[0m\u001b[1;33m\u001b[0m\u001b[0m\n\u001b[1;32m---> 10\u001b[1;33m         \u001b[1;32mraise\u001b[0m \u001b[0mValueError\u001b[0m\u001b[1;33m(\u001b[0m\u001b[1;34m'a > 0!'\u001b[0m\u001b[1;33m)\u001b[0m\u001b[1;33m\u001b[0m\u001b[1;33m\u001b[0m\u001b[0m\n\u001b[0m\u001b[0;32m     11\u001b[0m \u001b[0mmain\u001b[0m\u001b[1;33m(\u001b[0m\u001b[1;33m)\u001b[0m\u001b[1;33m\u001b[0m\u001b[1;33m\u001b[0m\u001b[0m\n\u001b[0;32m     12\u001b[0m \u001b[1;33m\u001b[0m\u001b[0m\n",
      "\u001b[1;31mValueError\u001b[0m: a > 0!"
     ]
    }
   ],
   "source": [
    "def main():\n",
    "    try:\n",
    "        mtd(3)\n",
    "    except Exception as e:\n",
    "        print('Get an error')\n",
    "    mtd(3)\n",
    "    \n",
    "def mtd(a):\n",
    "    if a > 0:\n",
    "        raise ValueError('a > 0!')\n",
    "main()\n",
    "    "
   ]
  }
 ],
 "metadata": {
  "kernelspec": {
   "display_name": "Python(Tensorflow)",
   "language": "python",
   "name": "tf-gpu"
  },
  "language_info": {
   "codemirror_mode": {
    "name": "ipython",
    "version": 3
   },
   "file_extension": ".py",
   "mimetype": "text/x-python",
   "name": "python",
   "nbconvert_exporter": "python",
   "pygments_lexer": "ipython3",
   "version": "3.7.7"
  }
 },
 "nbformat": 4,
 "nbformat_minor": 4
}
