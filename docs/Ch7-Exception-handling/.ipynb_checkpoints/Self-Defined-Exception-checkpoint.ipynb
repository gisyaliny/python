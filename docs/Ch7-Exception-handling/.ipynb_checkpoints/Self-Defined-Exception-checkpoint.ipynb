{
 "cells": [
  {
   "cell_type": "markdown",
   "metadata": {},
   "source": [
    "# Self Defined Exception, `raise` and `execpt`"
   ]
  },
  {
   "cell_type": "markdown",
   "metadata": {},
   "source": [
    "## 1. Self defined exception\n",
    "* Every error objects should be the subclass of `Exception`"
   ]
  },
  {
   "cell_type": "code",
   "execution_count": 1,
   "metadata": {},
   "outputs": [],
   "source": [
    "class AuctionException(Exception): pass"
   ]
  },
  {
   "cell_type": "code",
   "execution_count": 2,
   "metadata": {},
   "outputs": [
    {
     "ename": "AuctionException",
     "evalue": "",
     "output_type": "error",
     "traceback": [
      "\u001b[1;31m---------------------------------------------------------------------------\u001b[0m",
      "\u001b[1;31mAuctionException\u001b[0m                          Traceback (most recent call last)",
      "\u001b[1;32m<ipython-input-2-24474dcc8043>\u001b[0m in \u001b[0;36m<module>\u001b[1;34m\u001b[0m\n\u001b[1;32m----> 1\u001b[1;33m \u001b[1;32mraise\u001b[0m \u001b[0mAuctionException\u001b[0m\u001b[1;33m\u001b[0m\u001b[1;33m\u001b[0m\u001b[0m\n\u001b[0m",
      "\u001b[1;31mAuctionException\u001b[0m: "
     ]
    }
   ],
   "source": [
    "raise AuctionException"
   ]
  },
  {
   "cell_type": "markdown",
   "metadata": {},
   "source": [
    "## 2. `except` and `raise`\n",
    "* Transfer system-defined error to self defined error"
   ]
  },
  {
   "cell_type": "code",
   "execution_count": 3,
   "metadata": {},
   "outputs": [
    {
     "name": "stdout",
     "output_type": "stream",
     "text": [
      "Find a error,  could not convert string to float: 'df'\n",
      "The error in the main body, The bid price must be a number!\n"
     ]
    }
   ],
   "source": [
    "class AuctionTest:\n",
    "    def __init__(self,init_price):\n",
    "        self.init_price = init_price\n",
    "    def bid(self,bid_price):\n",
    "        d = 0.0\n",
    "        try:\n",
    "            d = float(bid_price)\n",
    "        except Exception as e:\n",
    "            print('Find a error, ',e)\n",
    "            raise AuctionException('The bid price must be a number!')\n",
    "        if self.init_price > d:\n",
    "            raise AuctionException('The bid price is too low!')\n",
    "        init_price = d\n",
    "\n",
    "        \n",
    "def main():\n",
    "    at = AuctionTest(200)\n",
    "    try:\n",
    "        at.bid('df')\n",
    "    except AuctionException as e:\n",
    "        print('The error in the main body,',e)\n",
    "\n",
    "main()"
   ]
  },
  {
   "cell_type": "code",
   "execution_count": null,
   "metadata": {},
   "outputs": [],
   "source": []
  }
 ],
 "metadata": {
  "kernelspec": {
   "display_name": "Python(Tensorflow)",
   "language": "python",
   "name": "tf-gpu"
  },
  "language_info": {
   "codemirror_mode": {
    "name": "ipython",
    "version": 3
   },
   "file_extension": ".py",
   "mimetype": "text/x-python",
   "name": "python",
   "nbconvert_exporter": "python",
   "pygments_lexer": "ipython3",
   "version": "3.7.7"
  }
 },
 "nbformat": 4,
 "nbformat_minor": 4
}
