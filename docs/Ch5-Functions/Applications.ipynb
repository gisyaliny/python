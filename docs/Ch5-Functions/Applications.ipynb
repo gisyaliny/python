{
 "cells": [
  {
   "cell_type": "markdown",
   "metadata": {},
   "source": [
    "# Applications"
   ]
  },
  {
   "cell_type": "markdown",
   "metadata": {},
   "source": [
    "## 1. Bubble Sort "
   ]
  },
  {
   "cell_type": "code",
   "execution_count": 1,
   "metadata": {},
   "outputs": [],
   "source": [
    "def bubble_sort(my_lst):\n",
    "    for index1,ele1 in enumerate(my_lst):\n",
    "        for index2,ele2 in enumerate(my_lst[:-1]):\n",
    "            if ele1 < ele2:\n",
    "                my_lst[index1],my_lst[index2] = my_lst[index2],my_lst[index1]\n",
    "    return my_lst\n",
    "    "
   ]
  },
  {
   "cell_type": "code",
   "execution_count": 2,
   "metadata": {},
   "outputs": [
    {
     "data": {
      "text/plain": [
       "[-42, -10, 0, 3, 4, 8, 10, 37, 69, 91, 6156]"
      ]
     },
     "execution_count": 2,
     "metadata": {},
     "output_type": "execute_result"
    }
   ],
   "source": [
    "bubble_sort([10,4,8,91,69,6156,3,0,-10,-42,37])"
   ]
  },
  {
   "cell_type": "markdown",
   "metadata": {},
   "source": [
    "## 2. Leap Year"
   ]
  },
  {
   "cell_type": "code",
   "execution_count": 3,
   "metadata": {},
   "outputs": [],
   "source": [
    "def is_leap(year):\n",
    "    if (int(year) % 4 ==0) and (int(year) % 100 > 0):\n",
    "        return True\n",
    "    elif (int(year) % 400 ==0):\n",
    "        return True\n",
    "    else:\n",
    "        return False    "
   ]
  },
  {
   "cell_type": "code",
   "execution_count": 4,
   "metadata": {},
   "outputs": [
    {
     "data": {
      "text/plain": [
       "False"
      ]
     },
     "execution_count": 4,
     "metadata": {},
     "output_type": "execute_result"
    }
   ],
   "source": [
    "is_leap(1900)"
   ]
  },
  {
   "cell_type": "code",
   "execution_count": 5,
   "metadata": {},
   "outputs": [
    {
     "data": {
      "text/plain": [
       "True"
      ]
     },
     "execution_count": 5,
     "metadata": {},
     "output_type": "execute_result"
    }
   ],
   "source": [
    "is_leap(1896)"
   ]
  },
  {
   "cell_type": "markdown",
   "metadata": {},
   "source": [
    "## 3. Count String,numbers,space and others"
   ]
  },
  {
   "cell_type": "code",
   "execution_count": 6,
   "metadata": {},
   "outputs": [],
   "source": [
    "def count_str_char(my_list):\n",
    "    digit_num = 0\n",
    "    space_num = 0\n",
    "    other_num = 0\n",
    "    char_num = 0\n",
    "    for c in my_list:\n",
    "        c = str(c)\n",
    "        if c.isdigit(): digit_num += 1\n",
    "        elif c.isalpha(): char_num += 1\n",
    "        elif c.isspace(): space_num += 1\n",
    "        else: other_num += 1\n",
    "    return {'Number of Character':char_num, 'Number of Space': space_num, \n",
    "            'Number of digitals':digit_num,'Number of Others': other_num}"
   ]
  },
  {
   "cell_type": "code",
   "execution_count": 7,
   "metadata": {},
   "outputs": [
    {
     "data": {
      "text/plain": [
       "{'Number of Character': 3,\n",
       " 'Number of Space': 4,\n",
       " 'Number of digitals': 4,\n",
       " 'Number of Others': 2}"
      ]
     },
     "execution_count": 7,
     "metadata": {},
     "output_type": "execute_result"
    }
   ],
   "source": [
    "count_str_char([2,4968,8,9,' ',' ',' ',' ','A','f','#','$','dsfs'])"
   ]
  },
  {
   "cell_type": "markdown",
   "metadata": {},
   "source": [
    "## 4. Remove repeated elements"
   ]
  },
  {
   "cell_type": "code",
   "execution_count": 8,
   "metadata": {},
   "outputs": [
    {
     "data": {
      "text/plain": [
       "{2, 49, 5, 7, 9, 'a', 'sffsf'}"
      ]
     },
     "execution_count": 8,
     "metadata": {},
     "output_type": "execute_result"
    }
   ],
   "source": [
    "set([2,2,2,5,'a','sffsf',49,7,9])"
   ]
  },
  {
   "cell_type": "code",
   "execution_count": 9,
   "metadata": {},
   "outputs": [
    {
     "data": {
      "text/plain": [
       "dict_keys([2, 5, 'a', 'sffsf', 49, 7, 9])"
      ]
     },
     "execution_count": 9,
     "metadata": {},
     "output_type": "execute_result"
    }
   ],
   "source": [
    "{}.fromkeys([2,2,2,5,'a','sffsf',49,7,9]).keys()"
   ]
  },
  {
   "cell_type": "markdown",
   "metadata": {},
   "source": [
    "## 5. Matrix and Transpose"
   ]
  },
  {
   "cell_type": "code",
   "execution_count": 10,
   "metadata": {},
   "outputs": [],
   "source": [
    "def matrix_transpose(n):\n",
    "    my_matrix = [[0] * n]\n",
    "    for time in range(1,n):\n",
    "        my_matrix += [[0]* n]\n",
    "    for row in range(0,n):\n",
    "        for col in range(0,n):\n",
    "            my_matrix[row][col] = row * n + col + 1\n",
    "    for row in my_matrix:\n",
    "        for ele in row:\n",
    "            print(ele,end=' ')\n",
    "        print()\n",
    "    print('--------------------')\n",
    "    for row in range(0,n):\n",
    "        for col in range(0,n):\n",
    "            print(my_matrix[col][row],end=' ')\n",
    "        print()"
   ]
  },
  {
   "cell_type": "code",
   "execution_count": 11,
   "metadata": {},
   "outputs": [
    {
     "name": "stdout",
     "output_type": "stream",
     "text": [
      "1 2 3 \n",
      "4 5 6 \n",
      "7 8 9 \n",
      "--------------------\n",
      "1 4 7 \n",
      "2 5 8 \n",
      "3 6 9 \n"
     ]
    }
   ],
   "source": [
    "matrix_transpose(3)"
   ]
  }
 ],
 "metadata": {
  "kernelspec": {
   "display_name": "TensorFlow(GPU)",
   "language": "python",
   "name": "tf-gpu"
  },
  "language_info": {
   "codemirror_mode": {
    "name": "ipython",
    "version": 3
   },
   "file_extension": ".py",
   "mimetype": "text/x-python",
   "name": "python",
   "nbconvert_exporter": "python",
   "pygments_lexer": "ipython3",
   "version": "3.7.6"
  }
 },
 "nbformat": 4,
 "nbformat_minor": 4
}
