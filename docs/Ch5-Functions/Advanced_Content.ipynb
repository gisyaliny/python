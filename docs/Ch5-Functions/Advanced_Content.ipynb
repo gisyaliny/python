{
 "cells": [
  {
   "cell_type": "markdown",
   "metadata": {},
   "source": [
    "# Advanced Content\n",
    "#### In python, the function itself could be also treated as an object, could assign a value to it, could input as the parameter of other functions, could as the return value."
   ]
  },
  {
   "cell_type": "markdown",
   "metadata": {},
   "source": [
    "## 1.`function` type Variables"
   ]
  },
  {
   "cell_type": "code",
   "execution_count": 2,
   "metadata": {},
   "outputs": [
    {
     "name": "stdout",
     "output_type": "stream",
     "text": [
      "81\n"
     ]
    }
   ],
   "source": [
    "def pow(base,exponent):\n",
    "    if exponent == 1:\n",
    "        return base\n",
    "    else:\n",
    "        return base * pow(base,exponent - 1)\n",
    "    \n",
    "my_func = pow\n",
    "print(my_func(3,4))"
   ]
  },
  {
   "cell_type": "code",
   "execution_count": 3,
   "metadata": {},
   "outputs": [
    {
     "name": "stdout",
     "output_type": "stream",
     "text": [
      "12\n"
     ]
    }
   ],
   "source": [
    "def area(width,height):\n",
    "    return width * height\n",
    "my_func = area\n",
    "print(my_func(3,4))"
   ]
  },
  {
   "cell_type": "markdown",
   "metadata": {},
   "source": [
    "## 2. Input functions as formal parameters"
   ]
  },
  {
   "cell_type": "code",
   "execution_count": 4,
   "metadata": {},
   "outputs": [
    {
     "name": "stdout",
     "output_type": "stream",
     "text": [
      "original data: [3, 4, 9, 5, 8]\n",
      "squared is None\n",
      "cubic is None\n",
      "factorial is None\n",
      "<class 'function'>\n"
     ]
    }
   ],
   "source": [
    "def my_map(data,fn):\n",
    "    result = []\n",
    "    for e in data:\n",
    "        result.append(fn(e))\n",
    "\n",
    "def square(n):\n",
    "    return n * n\n",
    "def cube(n):\n",
    "    return n*n*n\n",
    "def factorial(n):\n",
    "    if n<=1:\n",
    "        return 1\n",
    "    else:\n",
    "        return n* factorial(n-1)\n",
    "\n",
    "data = [3,4,9,5,8]\n",
    "print('original data:',data)\n",
    "print('squared is',my_map(data,square))\n",
    "print('cubic is',my_map(data,cube))\n",
    "print('factorial is',my_map(data,factorial))\n",
    "print(type(my_map))"
   ]
  },
  {
   "cell_type": "markdown",
   "metadata": {},
   "source": [
    "## 3. Use functions as the return value"
   ]
  },
  {
   "cell_type": "code",
   "execution_count": 6,
   "metadata": {},
   "outputs": [
    {
     "name": "stdout",
     "output_type": "stream",
     "text": [
      "125\n",
      "25\n",
      "120\n"
     ]
    }
   ],
   "source": [
    "def get_math_func(types):\n",
    "    def square(n):\n",
    "        return n*n\n",
    "    def cube(n):\n",
    "        return n*n*n\n",
    "    def factorial(n):\n",
    "        if n <= 1:\n",
    "            return 1\n",
    "        else:\n",
    "            return n * factorial(n-1)\n",
    "    if types == 'square':\n",
    "        return square\n",
    "    elif types == 'cube':\n",
    "        return cube\n",
    "    else:\n",
    "        return factorial\n",
    "\n",
    "math_func = get_math_func('cube')\n",
    "print(math_func(5))\n",
    "math_func = get_math_func('square')\n",
    "print(math_func(5))\n",
    "math_func = get_math_func('other')\n",
    "print(math_func(5))"
   ]
  },
  {
   "cell_type": "markdown",
   "metadata": {},
   "source": [
    "# Local functions and `lambda` expression\n",
    "#### The name of local functions is not very important in some cases, so we could use `lambda` expression to simplify them."
   ]
  },
  {
   "cell_type": "markdown",
   "metadata": {},
   "source": [
    "## 4. Use `lambda` expressions to substitute local functions\n",
    "#### Actually, `lambda` is a one line function without name, the following two lines is same\n",
    "* `lambda x,y: x + y`\n",
    "* `def add(x,y): return x + y`"
   ]
  },
  {
   "cell_type": "code",
   "execution_count": 7,
   "metadata": {},
   "outputs": [
    {
     "name": "stdout",
     "output_type": "stream",
     "text": [
      "125\n",
      "25\n",
      "15.0\n"
     ]
    }
   ],
   "source": [
    "def get_math_func(types):\n",
    "    result = 1\n",
    "    if types == 'square':\n",
    "        return lambda n: n*n\n",
    "    elif types == 'cube':\n",
    "        return lambda n: n*n*n\n",
    "    else:\n",
    "        return lambda n: (1+n) * n /2\n",
    "    \n",
    "math_func = get_math_func('cube')\n",
    "print(math_func(5))\n",
    "math_func = get_math_func('square')\n",
    "print(math_func(5))\n",
    "math_func = get_math_func('other')\n",
    "print(math_func(5))"
   ]
  },
  {
   "cell_type": "markdown",
   "metadata": {},
   "source": [
    "### The format of `lambda` expression\n",
    "`lambda [parameter_list]: expression`\n",
    "* `lambda x,y : x+y`\n",
    "#### Combine `map()` and `lambda()` together"
   ]
  },
  {
   "cell_type": "code",
   "execution_count": 8,
   "metadata": {},
   "outputs": [
    {
     "name": "stdout",
     "output_type": "stream",
     "text": [
      "[0, 1, 4, 9, 16, 25, 36, 49]\n"
     ]
    }
   ],
   "source": [
    "x = map(lambda x: x*x, range(8))\n",
    "print([e for e in x])"
   ]
  },
  {
   "cell_type": "code",
   "execution_count": 9,
   "metadata": {},
   "outputs": [
    {
     "name": "stdout",
     "output_type": "stream",
     "text": [
      "[0, 0, 4, 0, 16, 0, 36, 0]\n"
     ]
    }
   ],
   "source": [
    "y = map(lambda x: x*x if x % 2 == 0 else 0, range(8))\n",
    "print([e for e in y])"
   ]
  }
 ],
 "metadata": {
  "kernelspec": {
   "display_name": "TensorFlow(GPU)",
   "language": "python",
   "name": "tf-gpu"
  },
  "language_info": {
   "codemirror_mode": {
    "name": "ipython",
    "version": 3
   },
   "file_extension": ".py",
   "mimetype": "text/x-python",
   "name": "python",
   "nbconvert_exporter": "python",
   "pygments_lexer": "ipython3",
   "version": "3.7.6"
  }
 },
 "nbformat": 4,
 "nbformat_minor": 4
}
