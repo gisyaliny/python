{
 "cells": [
  {
   "cell_type": "markdown",
   "metadata": {},
   "source": [
    "## `Requesting` fixtures\n",
    "\n",
    "At a basic level, test functions request fixtures they require by declaring them as arguments.\n",
    "\n",
    "When `pytest` goes to run a test, it looks at the parameters in that test function’s signature, and then searches for `fixtures` that have the same names as those parameters. Once pytest finds them, it runs those fixtures, captures what they returned (if anything), and passes those objects into the test function as arguments.\n"
   ]
  },
  {
   "cell_type": "code",
   "execution_count": null,
   "metadata": {},
   "outputs": [],
   "source": []
  }
 ],
 "metadata": {
  "language_info": {
   "name": "python"
  }
 },
 "nbformat": 4,
 "nbformat_minor": 2
}
