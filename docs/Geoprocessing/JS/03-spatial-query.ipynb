{
 "cells": [
  {
   "cell_type": "markdown",
   "metadata": {},
   "source": [
    "# Working with Spatial Data with ArcGIS JS API\n",
    "\n",
    "In this section, we'll dive deeper into working with spatial data using the `ArcGIS JavaScript API`.\n",
    "\n",
    "We'll cover `spatial queries`, `filtering`, and understanding the `data structure` of web maps and feature layers on `ArcGIS Online`.\n",
    "\n",
    "- [Read after finish](https://developers.arcgis.com/javascript/latest/query-filter/)\n",
    "- [Final Result](https://gisyaliny.github.io/python/Geoprocessing/JS/03-Duplicates.htm)\n",
    "- [SQL Query](https://gisyaliny.github.io/python/Geoprocessing/JS/03_sp_query.htm)\n"
   ]
  },
  {
   "cell_type": "markdown",
   "metadata": {},
   "source": [
    "## Example:Querying Features within a Distance\n",
    "\n",
    "- **Perform Spatial Query**: Use the `queryFeatures` method to perform a spatial query.\n"
   ]
  }
 ],
 "metadata": {
  "language_info": {
   "name": "python"
  }
 },
 "nbformat": 4,
 "nbformat_minor": 2
}
