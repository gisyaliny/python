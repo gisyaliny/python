{
 "cells": [
  {
   "cell_type": "markdown",
   "metadata": {},
   "source": [
    "# Intro to CSS\n",
    "* [Reference](https://www.w3schools.com/css/css_intro.asp)\n",
    "\n",
    "## What is CSS?\n",
    "* `CSS` stands for Cascading Style Sheets\n",
    "* `CSS` describes how HTML elements are to be displayed on screen, paper, or in other media\n",
    "* `CSS` saves a lot of work. It can control the layout of multiple web pages all at once\n",
    "* External stylesheets are stored in `CSS` files\n",
    "\n",
    "* Sample to show different CSS"
   ]
  },
  {
   "attachments": {
    "image.png": {
     "image/png": "[encoded data removed]"
    }
   },
   "cell_type": "markdown",
   "metadata": {},
   "source": [
    "## CSS Syntax\n",
    "\n",
    "![image.png](attachment:image.png)\n",
    "\n",
    "* The `selector` points to the `HTML` element you want to style.\n",
    "* The `declaration block` contains one or more declarations separated by semicolons.\n",
    "* Each `declaration` includes a CSS property `name` and a `value`, separated by a colon.\n",
    "* Multiple `CSS declarations` are separated with semicolons, and `declaration blocks` are surrounded by curly braces.\n",
    "\n",
    "\n",
    "  ```css\n",
    "  p {\n",
    "  color: red;\n",
    "  text-align: center;\n",
    "  }\n",
    "  ```"
   ]
  },
  {
   "cell_type": "markdown",
   "metadata": {},
   "source": [
    "## Insert CSS\n",
    "\n",
    "There are three ways of inserting a style sheet:\n",
    "\n",
    "* Inline CSS\n",
    "* Internal CSS\n",
    "* External CSS"
   ]
  },
  {
   "cell_type": "markdown",
   "metadata": {},
   "source": [
    "### Inline CSS\n",
    "* An `inline style` may be used to apply a unique style for a single `element`.\n",
    "\n",
    "* To use `inline styles`, add the `style` attribute to the relevant `element`. \n",
    "\n",
    "* The `style` attribute can contain any CSS property.\n",
    "\n",
    "* Example\n",
    "\n",
    "    ```html\n",
    "    <!DOCTYPE html>\n",
    "    <html>\n",
    "    <body>\n",
    "\n",
    "    <h1 style=\"color:blue;text-align:center;\">This is a heading</h1>\n",
    "    <p style=\"color:red;\">This is a paragraph.</p>\n",
    "\n",
    "    </body>\n",
    "    </html>\n",
    "    ```"
   ]
  },
  {
   "cell_type": "markdown",
   "metadata": {},
   "source": [
    "### Internal CSS\n",
    "\n",
    "* An `internal style sheet` may be used if one single HTML page has a unique `style`.\n",
    "\n",
    "* The internal style is defined inside the `<style>` element, inside the `head` section.\n",
    "\n",
    "* Example\n",
    "\n",
    "    ```html\n",
    "    <!DOCTYPE html>\n",
    "    <html>\n",
    "    <head>\n",
    "            <style>\n",
    "            body {\n",
    "            background-color: linen;\n",
    "            }\n",
    "\n",
    "            h1 {\n",
    "            color: maroon;\n",
    "            margin-left: 40px;\n",
    "            }\n",
    "        </style>\n",
    "    </head>\n",
    "    <body>\n",
    "\n",
    "        <h1>This is a heading</h1>\n",
    "        <p>This is a paragraph.</p>\n",
    "\n",
    "    </body>\n",
    "    </html>\n",
    "    ```"
   ]
  },
  {
   "cell_type": "markdown",
   "metadata": {},
   "source": [
    "### External CSS\n",
    "\n",
    "* With an `external style sheet`, you can change the look of an entire website by changing just one file!\n",
    "\n",
    "* Each HTML page must include a reference to the `external style sheet` file inside the `<link>` element, inside the `head` section.\n",
    "\n",
    "* Example\n",
    "\n",
    "    ```html\n",
    "    <!DOCTYPE html>\n",
    "    <html>\n",
    "    <head>\n",
    "    <link rel=\"stylesheet\" href=\"mystyle.css\">\n",
    "    </head>\n",
    "    <body>\n",
    "\n",
    "    <h1>This is a heading</h1>\n",
    "    <p>This is a paragraph.</p>\n",
    "\n",
    "    </body>\n",
    "    </html>\n",
    "    ```"
   ]
  },
  {
   "cell_type": "markdown",
   "metadata": {},
   "source": [
    "### Cascading Order\n",
    "\n",
    "What `style` will be used when there is more than one style specified for an HTML element?\n",
    "\n",
    "* All the styles in a page will \"cascade\" into a new \"virtual\" style sheet by the following rules, where number one has the highest priority:\n",
    "  1. `Inline style` (inside an HTML element)\n",
    "  2. `External` and `internal` style sheets (in the head section)\n",
    "  3. Browser default"
   ]
  },
  {
   "cell_type": "markdown",
   "metadata": {},
   "source": [
    "## CSS Comments\n",
    "\n",
    "* `Comments` are used to explain the code, and may help when you edit the source code at a later date.\n",
    "\n",
    "* `Comments` are ignored by browsers.\n",
    "\n",
    "* A CSS comment is placed inside the `<style>` element, and starts with `/*` and ends with `*/`\n",
    "\n",
    "* Example\n",
    "\n",
    "    ```css\n",
    "    /* This is a single-line comment */\n",
    "    p {\n",
    "    color: red;\n",
    "    }\n",
    "    ```\n",
    "\n",
    "* Comments can also `span multiple lines`: \n",
    "\n",
    "    ```css\n",
    "    /* This is\n",
    "    a multi-line\n",
    "    comment */\n",
    "\n",
    "    p {\n",
    "    color: red;\n",
    "    }\n",
    "    ```"
   ]
  },
  {
   "cell_type": "markdown",
   "metadata": {},
   "source": [
    "## CSS Selectors (basic)\n",
    "\n",
    "`CSS selectors` are used to \"find\" (or select) the `HTML` elements you want to style.\n",
    "\n",
    "We can divide `CSS selectors` into five categories:\n",
    "\n",
    "1. Simple selectors (select elements based on name, id, class)\n",
    "2. Combinator selectors (select elements based on a specific relationship between them)\n",
    "3. Pseudo-class selectors (select elements based on a certain state)\n",
    "4. Pseudo-elements selectors (select and style a part of an element)\n",
    "5. Attribute selectors (select elements based on an attribute or attribute value)\n",
    "   \n",
    "This page will explain the most basic `CSS selectors`."
   ]
  },
  {
   "cell_type": "markdown",
   "metadata": {},
   "source": [
    "### The CSS element Selector\n",
    "\n",
    "The `element selector` selects HTML elements based on the `element name`.\n",
    "\n",
    "* Example\n",
    "\n",
    "    ```css\n",
    "    p {\n",
    "    text-align: center;\n",
    "    color: red;\n",
    "    }\n",
    "    ```"
   ]
  },
  {
   "cell_type": "markdown",
   "metadata": {},
   "source": [
    "### The CSS id Selector\n",
    "\n",
    "* The `id selector` uses the `id attribute` of an `HTML` element to select a specific element.\n",
    "\n",
    "* The **`id` of an element is unique within a page**, so the `id selector` is used to select **one unique element**!\n",
    "\n",
    "* To select an element with a specific `id`, write a hash (`#`) character, followed by the id of the element.\n",
    "\n",
    "* Example\n",
    "\n",
    "    ```css\n",
    "    #para1 {\n",
    "    text-align: center;\n",
    "    color: red;\n",
    "    }\n",
    "    ```"
   ]
  },
  {
   "cell_type": "markdown",
   "metadata": {},
   "source": [
    "### The CSS class Selector\n",
    "\n",
    "* The `class selector` selects HTML elements with a specific `class attribute`.\n",
    "\n",
    "* To select elements with a specific class, write a period (`.`) character, followed by the `class name`.\n",
    "\n",
    "* Example\n",
    "\n",
    "    ```css\n",
    "    .center {\n",
    "    text-align: center;\n",
    "    color: red;\n",
    "    }\n",
    "    ```\n",
    "\n",
    "* You can also specify that only specific HTML elements should be affected by a class.\n",
    "\n",
    "    ```css\n",
    "    p.center {\n",
    "    text-align: center;\n",
    "    color: red;\n",
    "    }\n",
    "    ```"
   ]
  },
  {
   "cell_type": "markdown",
   "metadata": {},
   "source": [
    "### The CSS Universal Selector\n",
    "* The `universal selector` (`*`) selects all HTML elements on the page.\n",
    "\n",
    "* Example\n",
    "\n",
    "    ```css\n",
    "    * {\n",
    "    text-align: center;\n",
    "    color: blue;\n",
    "    }\n",
    "    ```"
   ]
  },
  {
   "cell_type": "markdown",
   "metadata": {},
   "source": [
    "### All CSS Simple Selectors"
   ]
  },
  {
   "cell_type": "markdown",
   "metadata": {},
   "source": [
    "<table>\n",
    "  <tr>\n",
    "    <th>Selector</th>\n",
    "    <th>Example</th>\n",
    "    <th>Example description</th>\n",
    "  </tr>\n",
    "  <tr>\n",
    "    <td>#id</td>\n",
    "    <td>#firstname</td>\n",
    "    <td>Selects the element with id=\"firstname\"</td>\n",
    "  </tr>\n",
    "  <tr>\n",
    "    <td>.class</td>\n",
    "    <td>.intro</td>\n",
    "    <td>Selects all elements with class=\"intro\"</td>\n",
    "  </tr>\n",
    "  <tr>\n",
    "    <td>element.class</td>\n",
    "    <td>p.intro</td>\n",
    "    <td>Selects only &lt;p&gt; elements with class=\"intro\"</td>\n",
    "  </tr>\n",
    "  <tr>\n",
    "    <td>*</td>\n",
    "    <td>*</td>\n",
    "    <td>Selects all elements</td>\n",
    "  </tr>\n",
    "  <tr>\n",
    "    <td>element</td>\n",
    "    <td>p</td>\n",
    "    <td>Selects all &lt;p&gt; elements</td>\n",
    "  </tr>\n",
    "  <tr>\n",
    "    <td>element,element,..</td>\n",
    "    <td>div, p</td>\n",
    "    <td>Selects all &lt;div&gt; elements and all &lt;p&gt; elements</td>\n",
    "  </tr>\n",
    "</table>"
   ]
  }
 ],
 "metadata": {
  "language_info": {
   "name": "python"
  }
 },
 "nbformat": 4,
 "nbformat_minor": 2
}
