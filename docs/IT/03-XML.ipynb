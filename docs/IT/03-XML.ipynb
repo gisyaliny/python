{
 "cells": [
  {
   "cell_type": "markdown",
   "metadata": {},
   "source": [
    "# XML\n",
    "\n",
    "## 1. What is XML?\n",
    "\n",
    "### Definition\n",
    "- XML stands for **eXtensible Markup Language**.\n",
    "- XML is a markup language much like HTML but designed to store and transport data.\n",
    "\n",
    "### Purpose\n",
    "- XML is used to encode documents in a format that is both human-readable and machine-readable.\n",
    "- It is platform-independent and language-independent, making it a versatile way to share data.\n",
    "\n",
    "### Key Features\n",
    "- Self-descriptive structure\n",
    "- Separates data from presentation\n",
    "- Facilitates data sharing across different systems\n",
    "\n",
    "## 2. XML Syntax\n",
    "\n",
    "### Basic Rules\n",
    "- XML documents must have a root element.\n",
    "- Tags are case-sensitive.\n",
    "- Elements must be properly nested.\n",
    "- Attribute values must be quoted.\n",
    "\n",
    "### Example\n",
    "```xml\n",
    "<?xml version=\"1.0\" encoding=\"UTF-8\"?>\n",
    "<note>\n",
    "    <to>Tove</to>\n",
    "    <from>Jani</from>\n",
    "    <heading>Reminder</heading>\n",
    "    <body>Don't forget me this weekend!</body>\n",
    "</note>\n"
   ]
  },
  {
   "cell_type": "markdown",
   "metadata": {},
   "source": [
    "## XML Structure\n",
    "\n",
    "### Declaration\n",
    "\n",
    "* The `XML` declaration defines the `XML version` and the character encoding used in the document.\n",
    "\n",
    "    ```xml\n",
    "    <?xml version=\"1.0\" encoding=\"UTF-8\"?>\n",
    "    ```\n",
    "\n",
    "### Elements\n",
    "\n"
   ]
  }
 ],
 "metadata": {
  "language_info": {
   "name": "python"
  }
 },
 "nbformat": 4,
 "nbformat_minor": 2
}
