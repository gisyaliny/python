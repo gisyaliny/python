{
 "cells": [
  {
   "cell_type": "markdown",
   "metadata": {},
   "source": [
    "# Class member and Vriables"
   ]
  },
  {
   "cell_type": "markdown",
   "metadata": {},
   "source": [
    "## 1. Class variables(static) and instance variables"
   ]
  },
  {
   "cell_type": "code",
   "execution_count": 6,
   "metadata": {},
   "outputs": [
    {
     "name": "stdout",
     "output_type": "stream",
     "text": [
      "Texas\n",
      "Texas\n",
      "75080\n",
      "Binghamton\n",
      "13850\n"
     ]
    }
   ],
   "source": [
    "class Address:\n",
    "    detail = 'Texas'\n",
    "    post_code = '75080'\n",
    "    def info(self):\n",
    "        # Create instance variable\n",
    "        print(self.detail)\n",
    "        # Print class variables through class\n",
    "        print(Address.post_code)\n",
    "\n",
    "print(Address.detail)\n",
    "addr = Address()\n",
    "addr.info()\n",
    "Address.detail = 'Binghamton'\n",
    "Address.post_code = '13850'\n",
    "addr.info()"
   ]
  },
  {
   "cell_type": "markdown",
   "metadata": {},
   "source": [
    "**If you want to assign value to instance variables, you could do like following**"
   ]
  },
  {
   "cell_type": "code",
   "execution_count": 7,
   "metadata": {},
   "outputs": [
    {
     "name": "stdout",
     "output_type": "stream",
     "text": [
      "Razer\n",
      "3600\n",
      "Mouse\n",
      "2000\n"
     ]
    }
   ],
   "source": [
    "class Inventory:\n",
    "    # two class variables\n",
    "    item = 'Mouse'\n",
    "    dpi = 2000\n",
    "    # define a instance function\n",
    "    def change(self,item,dpi):\n",
    "        self.item = item\n",
    "        self.dpi = dpi\n",
    "\n",
    "iv = Inventory()\n",
    "iv.change('Razer',3600)\n",
    "print(iv.item)\n",
    "print(iv.dpi)\n",
    "print(Inventory.item)\n",
    "print(Inventory.dpi)"
   ]
  },
  {
   "cell_type": "markdown",
   "metadata": {},
   "source": [
    "**In this case, if you change the value of class variables, the value of instance variables would not be changed**"
   ]
  },
  {
   "cell_type": "code",
   "execution_count": 8,
   "metadata": {},
   "outputs": [
    {
     "name": "stdout",
     "output_type": "stream",
     "text": [
      "Razer\n",
      "3600\n"
     ]
    }
   ],
   "source": [
    "Inventory.item = 'logitech'\n",
    "Inventory.dpi = 5400\n",
    "print(iv.item)\n",
    "print(iv.dpi)"
   ]
  },
  {
   "cell_type": "markdown",
   "metadata": {},
   "source": [
    "## 2. Accessor and Mutator in Python\n",
    "Accessor and Mutator are using for changing the value of instance variables,including `getter`,`setter`,etc. We could use `property()` to define them as instance variables.\n",
    "The expression of `property()` as following:\n",
    " `property(fget = None, fset = None, fdel = None, doc = None)`\n",
    "* `fget` : read the instance variable\n",
    "* `fset` : write(change) the instance variable\n",
    "* `fdel` : delete the instance variable\n",
    "* `doc` : a docstring to describe this function"
   ]
  },
  {
   "cell_type": "code",
   "execution_count": 5,
   "metadata": {},
   "outputs": [],
   "source": [
    "class Rectangle:\n",
    "    # The constructor\n",
    "    def __init__(self,width,height):\n",
    "        self.width = width\n",
    "        self.height = height\n",
    "        \n",
    "    def setsize(self,size):\n",
    "        self.width, self.height = size\n",
    "    def getsize(self):\n",
    "        return self.width, self.height\n",
    "    def delsize(self):\n",
    "        self.width, self.height = 0,0\n",
    "        \n",
    "    # use property() to define \n",
    "    size = property(getsize,setsize,delsize,'to describe the size of rectangle')"
   ]
  },
  {
   "cell_type": "code",
   "execution_count": 6,
   "metadata": {},
   "outputs": [
    {
     "name": "stdout",
     "output_type": "stream",
     "text": [
      "to describe the size of rectangle\n",
      "(4, 3)\n",
      "9\n",
      "7\n",
      "0\n",
      "0\n"
     ]
    }
   ],
   "source": [
    "print(Rectangle.size.__doc__)\n",
    "rect = Rectangle(4,3)\n",
    "print(rect.size)\n",
    "rect.size = 9,7\n",
    "print(rect.width)\n",
    "print(rect.height)\n",
    "del rect.size\n",
    "print(rect.width)\n",
    "print(rect.height)"
   ]
  },
  {
   "cell_type": "markdown",
   "metadata": {},
   "source": [
    "**You could also only give the read and write permits to user**"
   ]
  },
  {
   "cell_type": "code",
   "execution_count": 9,
   "metadata": {},
   "outputs": [],
   "source": [
    "class User:\n",
    "    def __init__(self,first,last):\n",
    "        self.first = first\n",
    "        self.last = last\n",
    "    def getfullname(self):\n",
    "        return self.first + ',' + self.last\n",
    "    def setfullname(self,fullname):\n",
    "        first_last = fullname.rsplit(',')\n",
    "        self.first = first_last[0]\n",
    "        self.last = first_last[1]\n",
    "    fullname = property(getfullname,setfullname)"
   ]
  },
  {
   "cell_type": "code",
   "execution_count": 10,
   "metadata": {},
   "outputs": [
    {
     "name": "stdout",
     "output_type": "stream",
     "text": [
      "lewis,Carroll\n",
      "Jason\n",
      "Alex\n"
     ]
    }
   ],
   "source": [
    "u = User('lewis','Carroll')\n",
    "print(u.fullname)\n",
    "u.fullname = 'Jason,Alex'\n",
    "print(u.first)\n",
    "print(u.last)"
   ]
  },
  {
   "cell_type": "markdown",
   "metadata": {},
   "source": [
    "**Could also use `@property` to decorate functions**\n",
    "* if only use `@property`, then this variable only readable but not writeable\n",
    "* add `@xxx.setter` to add the writeable properties"
   ]
  },
  {
   "cell_type": "code",
   "execution_count": 12,
   "metadata": {},
   "outputs": [],
   "source": [
    "class Cell:\n",
    "    @property\n",
    "    def state(self):\n",
    "        return self._state\n",
    "    @state.setter\n",
    "    def state(self,value):\n",
    "        if 'alive' in value.lower():\n",
    "            self._state = 'alive'\n",
    "        else:\n",
    "            self._state = 'dead'\n",
    "    @property\n",
    "    def is_dead(self):\n",
    "        return not self._state.lower() == 'alive'"
   ]
  },
  {
   "cell_type": "code",
   "execution_count": 13,
   "metadata": {},
   "outputs": [
    {
     "name": "stdout",
     "output_type": "stream",
     "text": [
      "alive\n",
      "False\n"
     ]
    }
   ],
   "source": [
    "c = Cell()\n",
    "c.state = 'Alive'\n",
    "print(c.state)\n",
    "print(c.is_dead)"
   ]
  }
 ],
 "metadata": {
  "kernelspec": {
   "display_name": "TensorFlow(GPU)",
   "language": "python",
   "name": "tf-gpu"
  },
  "language_info": {
   "codemirror_mode": {
    "name": "ipython",
    "version": 3
   },
   "file_extension": ".py",
   "mimetype": "text/x-python",
   "name": "python",
   "nbconvert_exporter": "python",
   "pygments_lexer": "ipython3",
   "version": "3.7.6"
  }
 },
 "nbformat": 4,
 "nbformat_minor": 4
}
