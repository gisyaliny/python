{
 "cells": [
  {
   "cell_type": "markdown",
   "metadata": {},
   "source": [
    "# Extensible Programming\n",
    "* All the variables, functions of classes and objects could be modified and delete dynamically"
   ]
  },
  {
   "cell_type": "markdown",
   "metadata": {},
   "source": [
    "## 1. `__slots__` \n",
    "* If you **add a function to Class, you do not need to use `MethodType()`** to encapsulate your function, the **first parameter would auto combined with instance**\n",
    "* `__slots__` is a tuple, using to restrict which function could be added to a class **(only within this tuple then could be added)**\n",
    "* **Adding Class method is not restrict by `__slots__`**\n",
    "* **`__slots__` is also not applicable for subclass**"
   ]
  },
  {
   "cell_type": "code",
   "execution_count": 1,
   "metadata": {},
   "outputs": [
    {
     "name": "stdout",
     "output_type": "stream",
     "text": [
      "Garfield walking throught a grass land\n",
      "Kitty walking throught a grass land\n"
     ]
    }
   ],
   "source": [
    "class Cat:\n",
    "    def __init__(self,name):\n",
    "        self.name = name\n",
    "        \n",
    "def walk_func(self):\n",
    "    print('%s walking throught a grass land' %self.name)\n",
    "\n",
    "d1 = Cat('Garfield')\n",
    "d2 = Cat('Kitty')\n",
    "\n",
    "# Add walk_func to Class\n",
    "Cat.walk = walk_func\n",
    "d1.walk()\n",
    "d2.walk()"
   ]
  },
  {
   "cell_type": "code",
   "execution_count": 3,
   "metadata": {},
   "outputs": [
    {
     "name": "stdout",
     "output_type": "stream",
     "text": [
      "Snoopy is walking\n"
     ]
    }
   ],
   "source": [
    "class Dog:\n",
    "    __slots__ = ('walk','age','name')\n",
    "    def __init__(self,name):\n",
    "        self.name = name\n",
    "    def test():\n",
    "        print('The pre-defined test function')\n",
    "\n",
    "d = Dog('Snoopy')\n",
    "from types import MethodType\n",
    "\n",
    "d.walk = MethodType(lambda self: print('%s is walking'%self.name), d)\n",
    "d.age = 5\n",
    "d.walk()"
   ]
  },
  {
   "cell_type": "code",
   "execution_count": 4,
   "metadata": {},
   "outputs": [
    {
     "name": "stdout",
     "output_type": "stream",
     "text": [
      "class function is not restrict by __slots__\n"
     ]
    }
   ],
   "source": [
    "Dog.bar = lambda self: print('class function is not restrict by __slots__')\n",
    "d.bar()"
   ]
  },
  {
   "cell_type": "code",
   "execution_count": 5,
   "metadata": {},
   "outputs": [
    {
     "name": "stdout",
     "output_type": "stream",
     "text": [
      "The properties and functions of subclass are not restrict by __slots, speed is 20\n"
     ]
    }
   ],
   "source": [
    "class GunDog(Dog):\n",
    "    def __init__(self,name):\n",
    "        super().__init__(name)\n",
    "    pass\n",
    "\n",
    "gd = GunDog('Puppy')\n",
    "gd.speed = 20\n",
    "print('The properties and functions of subclass are not restrict by __slots, speed is',gd.speed)"
   ]
  },
  {
   "cell_type": "markdown",
   "metadata": {},
   "source": [
    "## 2. Use `type()` to define classes\n",
    "* In python, **every class could be regarded as an instance of `type` class**\n",
    "* **`type()` function is the constructor of `type` class**, so we could use `type()` to define a class"
   ]
  },
  {
   "cell_type": "code",
   "execution_count": 7,
   "metadata": {},
   "outputs": [
    {
     "name": "stdout",
     "output_type": "stream",
     "text": [
      "<class 'type'>\n",
      "<class 'type'>\n",
      "<class '__main__.GunDog'>\n"
     ]
    }
   ],
   "source": [
    "print(type(Dog))\n",
    "print(type(GunDog))\n",
    "print(type(gd))"
   ]
  },
  {
   "cell_type": "markdown",
   "metadata": {},
   "source": [
    "**Using `type()` to create a class (three input parameters)**\n",
    "* The name of class\n",
    "* A tuple of superclass(tuple needs comma)\n",
    "* A dictionary of variables and functions"
   ]
  },
  {
   "cell_type": "code",
   "execution_count": 8,
   "metadata": {},
   "outputs": [
    {
     "name": "stdout",
     "output_type": "stream",
     "text": [
      "<class '__main__.Dog'>\n",
      "<class 'type'>\n",
      "fn function\n",
      "6\n"
     ]
    }
   ],
   "source": [
    "def fn(self):\n",
    "    print('fn function')\n",
    "    \n",
    "Dog = type('Dog',(object,), dict(walk = fn,age = 6))\n",
    "d = Dog()\n",
    "print(type(d))\n",
    "print(type(Dog))\n",
    "d.walk()\n",
    "print(Dog.age)"
   ]
  },
  {
   "cell_type": "markdown",
   "metadata": {},
   "source": [
    "## 3. Use `metaclass` to create common properties\n",
    "#### Add a addtional function or variables to a defined class, by overwriting the `__new__` of `type` class \n",
    "* `cls` indicates the input class\n",
    "* `name` the name of input class\n",
    "* `bases` the superclass of the input class\n",
    "* `attr` A dictionary contains all variables and functions the input class has\n",
    "#### In all, it is very useful to develop a frame"
   ]
  },
  {
   "cell_type": "code",
   "execution_count": 9,
   "metadata": {},
   "outputs": [],
   "source": [
    "class ItemMetaClass(type):\n",
    "    def __new__(cls,name,bases,attrs):\n",
    "        attrs['cal_price'] = lambda self: self.price * self.discount\n",
    "        return type.__new__(cls,name,bases,attrs)"
   ]
  },
  {
   "cell_type": "code",
   "execution_count": 11,
   "metadata": {},
   "outputs": [],
   "source": [
    "class Book(metaclass = ItemMetaClass):\n",
    "    __slots__ = ('name','price','__discount')\n",
    "    def __init__(self,name,price):\n",
    "        self.name = name\n",
    "        self.price = price\n",
    "    @property\n",
    "    def discount(self):\n",
    "        return self.__discount\n",
    "    @discount.setter\n",
    "    def discount(self,discount):\n",
    "        self.__discount = discount\n",
    "\n",
    "class CellPhone(metaclass = ItemMetaClass):\n",
    "    __slots__ = ('price','__discount')\n",
    "    def __init__(self,price):\n",
    "        self.price = price\n",
    "    @property\n",
    "    def discount(self):\n",
    "        return self.__discount\n",
    "    @discount.setter\n",
    "    def discount(self,discount):\n",
    "        self.__discount = discount"
   ]
  },
  {
   "cell_type": "code",
   "execution_count": 12,
   "metadata": {},
   "outputs": [
    {
     "name": "stdout",
     "output_type": "stream",
     "text": [
      "71.2\n",
      "1062.5\n"
     ]
    }
   ],
   "source": [
    "b = Book('Crazy Python',89)\n",
    "b.discount = 0.8\n",
    "print(b.cal_price())\n",
    "cp = CellPhone(1250)\n",
    "cp.discount = 0.85\n",
    "print(cp.cal_price())"
   ]
  }
 ],
 "metadata": {
  "kernelspec": {
   "display_name": "TensorFlow(GPU)",
   "language": "python",
   "name": "tf-gpu"
  },
  "language_info": {
   "codemirror_mode": {
    "name": "ipython",
    "version": 3
   },
   "file_extension": ".py",
   "mimetype": "text/x-python",
   "name": "python",
   "nbconvert_exporter": "python",
   "pygments_lexer": "ipython3",
   "version": "3.7.6"
  }
 },
 "nbformat": 4,
 "nbformat_minor": 4
}
