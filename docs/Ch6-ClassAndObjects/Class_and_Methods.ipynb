{
 "cells": [
  {
   "cell_type": "markdown",
   "metadata": {},
   "source": [
    "# Class and Methods\n",
    "### Usage of class\n",
    "* Define a class\n",
    "* Create objects\n",
    "* Create sub-class"
   ]
  },
  {
   "cell_type": "markdown",
   "metadata": {},
   "source": [
    "# 1. Classes"
   ]
  },
  {
   "cell_type": "markdown",
   "metadata": {},
   "source": [
    "## 1.1 Define a class\n",
    "#### Expression\n",
    "* class name:   \n",
    "    statements   \n",
    "    0-n variables   \n",
    "    0-n functions   \n",
    "#### Constructor\n",
    "* `__init__`: Python use constructor to return an object of a class"
   ]
  },
  {
   "cell_type": "code",
   "execution_count": 1,
   "metadata": {},
   "outputs": [],
   "source": [
    "class Person:\n",
    "    hair = 'black'\n",
    "    def __init__(self,name = 'Charlie',age = 8):\n",
    "        # Add two instance parameter to Person class\n",
    "        self.name = name\n",
    "        self.age = age\n",
    "    # Define a say function\n",
    "    def say(self,content):\n",
    "        print(content)"
   ]
  },
  {
   "cell_type": "markdown",
   "metadata": {},
   "source": [
    "## 1.2 Generate Objects and Use it"
   ]
  },
  {
   "cell_type": "code",
   "execution_count": 2,
   "metadata": {},
   "outputs": [],
   "source": [
    "p = Person()\n",
    "print(p.name,p.age)"
   ]
  },
  {
   "cell_type": "code",
   "execution_count": 3,
   "metadata": {},
   "outputs": [],
   "source": [
    "p.name = 'Nio'\n",
    "p.say('It is easy to learn python programming!')"
   ]
  },
  {
   "cell_type": "code",
   "execution_count": 4,
   "metadata": {},
   "outputs": [],
   "source": [
    "print(p.name,p.age)"
   ]
  },
  {
   "cell_type": "markdown",
   "metadata": {},
   "source": [
    "## 1.3 Dynamic manipulating objects."
   ]
  },
  {
   "cell_type": "code",
   "execution_count": 5,
   "metadata": {},
   "outputs": [],
   "source": [
    "p.skills = ['programming','swimming']\n",
    "print(p.skills)"
   ]
  },
  {
   "cell_type": "code",
   "execution_count": 6,
   "metadata": {},
   "outputs": [],
   "source": [
    "# Delete parameters within a object\n",
    "del p.name\n",
    "print(p.name)  # AttributeError"
   ]
  },
  {
   "cell_type": "markdown",
   "metadata": {},
   "source": [
    "## 1.4 Dynamic add functions"
   ]
  },
  {
   "cell_type": "code",
   "execution_count": 7,
   "metadata": {},
   "outputs": [
    {
     "name": "stdout",
     "output_type": "stream",
     "text": [
      "---info function--- <__main__.Person object at 0x00000152A0D3F848>\n"
     ]
    }
   ],
   "source": [
    "def info(self):\n",
    "    print(\"---info function---\",self)\n",
    "\n",
    "# use info function\n",
    "p.foo = info\n",
    "p.foo(p)"
   ]
  },
  {
   "cell_type": "code",
   "execution_count": 8,
   "metadata": {},
   "outputs": [
    {
     "name": "stdout",
     "output_type": "stream",
     "text": [
      "---lambda --- <__main__.Person object at 0x00000152A0D3F848>\n"
     ]
    }
   ],
   "source": [
    "p.bar = lambda self: print(\"---lambda ---\",self)\n",
    "p.bar(p)"
   ]
  },
  {
   "cell_type": "markdown",
   "metadata": {},
   "source": [
    "#### bind the `\"self\"` as the first parameter to the dynamic added function"
   ]
  },
  {
   "cell_type": "code",
   "execution_count": 9,
   "metadata": {},
   "outputs": [
    {
     "name": "stdout",
     "output_type": "stream",
     "text": [
      "I am a person, infomation are What a good life\n"
     ]
    }
   ],
   "source": [
    "def intro_func(self,content):\n",
    "    print(\"I am a person, infomation are %s\" % content)\n",
    "    \n",
    "from types import MethodType\n",
    "p.intro = MethodType(intro_func,p)\n",
    "\n",
    "# the first parameter are fixed as 'p', do not need to pass again\n",
    "p.intro(\"What a good life\")"
   ]
  },
  {
   "cell_type": "markdown",
   "metadata": {},
   "source": [
    "## 1.5 Constructor VS Instance methods\n",
    "#### In python, classes and objects like a namespace, use `self` to pass this namespace to functions"
   ]
  },
  {
   "cell_type": "code",
   "execution_count": 10,
   "metadata": {},
   "outputs": [],
   "source": [
    "class Dog1:\n",
    "    def jump(self):\n",
    "        print(\"The jump function is working\")\n",
    "    def run(self):\n",
    "        self.jump()\n",
    "        print(\"The run function is working\")"
   ]
  },
  {
   "cell_type": "code",
   "execution_count": 11,
   "metadata": {},
   "outputs": [
    {
     "name": "stdout",
     "output_type": "stream",
     "text": [
      "The jump function is working\n",
      "The run function is working\n"
     ]
    }
   ],
   "source": [
    "d1 = Dog1()\n",
    "d1.run()"
   ]
  },
  {
   "cell_type": "code",
   "execution_count": 12,
   "metadata": {},
   "outputs": [],
   "source": [
    "class Dog2:\n",
    "    def jump(self):\n",
    "        print(\"The jump function is working\")\n",
    "    def run(self):\n",
    "        jump()\n",
    "        print(\"The run function is working\")"
   ]
  },
  {
   "cell_type": "code",
   "execution_count": 13,
   "metadata": {},
   "outputs": [
    {
     "ename": "NameError",
     "evalue": "name 'jump' is not defined",
     "output_type": "error",
     "traceback": [
      "\u001b[1;31m---------------------------------------------------------------------------\u001b[0m",
      "\u001b[1;31mNameError\u001b[0m                                 Traceback (most recent call last)",
      "\u001b[1;32m<ipython-input-13-1addbe365eee>\u001b[0m in \u001b[0;36m<module>\u001b[1;34m\u001b[0m\n\u001b[0;32m      1\u001b[0m \u001b[0md2\u001b[0m \u001b[1;33m=\u001b[0m \u001b[0mDog2\u001b[0m\u001b[1;33m(\u001b[0m\u001b[1;33m)\u001b[0m\u001b[1;33m\u001b[0m\u001b[1;33m\u001b[0m\u001b[0m\n\u001b[1;32m----> 2\u001b[1;33m \u001b[0md2\u001b[0m\u001b[1;33m.\u001b[0m\u001b[0mrun\u001b[0m\u001b[1;33m(\u001b[0m\u001b[1;33m)\u001b[0m\u001b[1;33m\u001b[0m\u001b[1;33m\u001b[0m\u001b[0m\n\u001b[0m",
      "\u001b[1;32m<ipython-input-12-e95df2282aff>\u001b[0m in \u001b[0;36mrun\u001b[1;34m(self)\u001b[0m\n\u001b[0;32m      3\u001b[0m         \u001b[0mprint\u001b[0m\u001b[1;33m(\u001b[0m\u001b[1;34m\"The jump function is working\"\u001b[0m\u001b[1;33m)\u001b[0m\u001b[1;33m\u001b[0m\u001b[1;33m\u001b[0m\u001b[0m\n\u001b[0;32m      4\u001b[0m     \u001b[1;32mdef\u001b[0m \u001b[0mrun\u001b[0m\u001b[1;33m(\u001b[0m\u001b[0mself\u001b[0m\u001b[1;33m)\u001b[0m\u001b[1;33m:\u001b[0m\u001b[1;33m\u001b[0m\u001b[1;33m\u001b[0m\u001b[0m\n\u001b[1;32m----> 5\u001b[1;33m         \u001b[0mjump\u001b[0m\u001b[1;33m(\u001b[0m\u001b[1;33m)\u001b[0m\u001b[1;33m\u001b[0m\u001b[1;33m\u001b[0m\u001b[0m\n\u001b[0m\u001b[0;32m      6\u001b[0m         \u001b[0mprint\u001b[0m\u001b[1;33m(\u001b[0m\u001b[1;34m\"The run function is working\"\u001b[0m\u001b[1;33m)\u001b[0m\u001b[1;33m\u001b[0m\u001b[1;33m\u001b[0m\u001b[0m\n",
      "\u001b[1;31mNameError\u001b[0m: name 'jump' is not defined"
     ]
    }
   ],
   "source": [
    "d2 = Dog2()\n",
    "d2.run()"
   ]
  },
  {
   "cell_type": "markdown",
   "metadata": {},
   "source": [
    "**could also pass `self` as an instance**"
   ]
  },
  {
   "cell_type": "code",
   "execution_count": 14,
   "metadata": {},
   "outputs": [
    {
     "name": "stdout",
     "output_type": "stream",
     "text": [
      "age is 3\n"
     ]
    }
   ],
   "source": [
    "class ReturnSelf:\n",
    "    def grow(self):\n",
    "        if hasattr(self,'age'):\n",
    "            self.age += 1\n",
    "        else:\n",
    "            self.age = 1\n",
    "        return self\n",
    "\n",
    "rs = ReturnSelf()\n",
    "rs.grow().grow().grow()\n",
    "print('age is',rs.age)"
   ]
  },
  {
   "cell_type": "markdown",
   "metadata": {},
   "source": [
    "# 2. Methods"
   ]
  },
  {
   "cell_type": "markdown",
   "metadata": {},
   "source": [
    "## 2.1 Class could also call instance methods"
   ]
  },
  {
   "cell_type": "code",
   "execution_count": 15,
   "metadata": {},
   "outputs": [],
   "source": [
    "# define a global foo function\n",
    "def foo():\n",
    "    print(\"It is global function\")\n",
    "    \n",
    "# define a global variable\n",
    "bar = 20\n",
    "\n",
    "class Bird:\n",
    "    def foo():\n",
    "        print(\"It is a function under Bird class\")\n",
    "    bar = 200"
   ]
  },
  {
   "cell_type": "code",
   "execution_count": 16,
   "metadata": {},
   "outputs": [
    {
     "name": "stdout",
     "output_type": "stream",
     "text": [
      "It is global function\n",
      "It is a function under Bird class\n",
      "20\n",
      "200\n"
     ]
    }
   ],
   "source": [
    "foo()\n",
    "Bird.foo()\n",
    "print(bar)\n",
    "print(Bird.bar)"
   ]
  },
  {
   "cell_type": "markdown",
   "metadata": {},
   "source": [
    "**For those methods have parameter `self`, must create a object before calling it**"
   ]
  },
  {
   "cell_type": "code",
   "execution_count": 17,
   "metadata": {},
   "outputs": [],
   "source": [
    "class User:\n",
    "    def walk(self):\n",
    "        print(self, 'Walking slowly')"
   ]
  },
  {
   "cell_type": "code",
   "execution_count": 18,
   "metadata": {},
   "outputs": [
    {
     "ename": "TypeError",
     "evalue": "walk() missing 1 required positional argument: 'self'",
     "output_type": "error",
     "traceback": [
      "\u001b[1;31m---------------------------------------------------------------------------\u001b[0m",
      "\u001b[1;31mTypeError\u001b[0m                                 Traceback (most recent call last)",
      "\u001b[1;32m<ipython-input-18-ce741b211929>\u001b[0m in \u001b[0;36m<module>\u001b[1;34m\u001b[0m\n\u001b[0;32m      1\u001b[0m \u001b[1;31m# Directly call a function without instance would give a error\u001b[0m\u001b[1;33m\u001b[0m\u001b[1;33m\u001b[0m\u001b[1;33m\u001b[0m\u001b[0m\n\u001b[1;32m----> 2\u001b[1;33m \u001b[0mUser\u001b[0m\u001b[1;33m.\u001b[0m\u001b[0mwalk\u001b[0m\u001b[1;33m(\u001b[0m\u001b[1;33m)\u001b[0m\u001b[1;33m\u001b[0m\u001b[1;33m\u001b[0m\u001b[0m\n\u001b[0m",
      "\u001b[1;31mTypeError\u001b[0m: walk() missing 1 required positional argument: 'self'"
     ]
    }
   ],
   "source": [
    "# Directly call a function without instance would give a error\n",
    "User.walk()"
   ]
  },
  {
   "cell_type": "code",
   "execution_count": 19,
   "metadata": {},
   "outputs": [
    {
     "name": "stdout",
     "output_type": "stream",
     "text": [
      "<__main__.User object at 0x00000152A0DE64C8> Walking slowly\n"
     ]
    }
   ],
   "source": [
    "u = User()\n",
    "u.walk()"
   ]
  },
  {
   "cell_type": "code",
   "execution_count": 20,
   "metadata": {},
   "outputs": [
    {
     "name": "stdout",
     "output_type": "stream",
     "text": [
      "fkit Walking slowly\n"
     ]
    }
   ],
   "source": [
    "User.walk('fkit')"
   ]
  },
  {
   "cell_type": "markdown",
   "metadata": {},
   "source": [
    "## 2.2 Class methods VS Static methods (usually not needed)\n",
    "* The first parameter in `class method` called `cls`, would automatically be combined with the class itself.\n",
    "* But the `static method` would not, you must pass by a parameter before calling it"
   ]
  },
  {
   "cell_type": "code",
   "execution_count": 21,
   "metadata": {},
   "outputs": [],
   "source": [
    "class Bird:\n",
    "    # using @classsmethod to illustrate it is a class method\n",
    "    @classmethod\n",
    "    def fly(cls):\n",
    "        print('Class method fly: ', cls)\n",
    "    \n",
    "    # using @staticmethod to illustrate it is a static method\n",
    "    @staticmethod\n",
    "    def info(p):\n",
    "        print('Static method info: ',p)"
   ]
  },
  {
   "cell_type": "code",
   "execution_count": 22,
   "metadata": {},
   "outputs": [
    {
     "name": "stdout",
     "output_type": "stream",
     "text": [
      "Class method fly:  <class '__main__.Bird'>\n",
      "Static method info:  crazyit\n"
     ]
    }
   ],
   "source": [
    "Bird.fly()\n",
    "# use static method, must manually input one parameter.\n",
    "Bird.info('crazyit')"
   ]
  },
  {
   "cell_type": "code",
   "execution_count": 23,
   "metadata": {},
   "outputs": [
    {
     "name": "stdout",
     "output_type": "stream",
     "text": [
      "Class method fly:  <class '__main__.Bird'>\n",
      "Static method info:  fkit\n"
     ]
    }
   ],
   "source": [
    "b = Bird()\n",
    "# use object to call a class method, in fact, it is equal to call this method using class itself.\n",
    "b.fly()\n",
    "# use object to call a static method, in fact, it also is equal to call this method using class itself.\n",
    "b.info('fkit')"
   ]
  },
  {
   "cell_type": "markdown",
   "metadata": {},
   "source": [
    "## 2.3 Function decorator\n",
    "* `@classmethod` and `@staticmethod` are basically two function decorators, `staticmethod` and `classmethod` are two build-in functions in Python\n",
    "\n",
    "#### When you use `@ functionA` to decorate `functionB`, it means\n",
    "* `functionB` would be regarded as a input parameter to `functionA`\n",
    "* The return value from `functionA` would substitude `functionB`"
   ]
  },
  {
   "cell_type": "code",
   "execution_count": 24,
   "metadata": {},
   "outputs": [
    {
     "name": "stdout",
     "output_type": "stream",
     "text": [
      "A\n",
      "B\n",
      "fkit\n"
     ]
    }
   ],
   "source": [
    "def funA(fn):\n",
    "    print('A')\n",
    "    fn()\n",
    "    return 'fkit'\n",
    "\n",
    "\"\"\"\n",
    "The result of the below decorator equal to funA(funB)\n",
    "funB would be replaced(decorated) by funA()'s return\n",
    "That is why funB would be 'fkit'\n",
    "\"\"\"\n",
    "\n",
    "@funA\n",
    "def funB():\n",
    "    print('B') # just use one time\n",
    "print(funB)  # fkit"
   ]
  },
  {
   "cell_type": "markdown",
   "metadata": {},
   "source": [
    "#### Remember, the replaced value is defined by the return of the first function"
   ]
  },
  {
   "cell_type": "code",
   "execution_count": 25,
   "metadata": {},
   "outputs": [
    {
     "name": "stdout",
     "output_type": "stream",
     "text": [
      "===1=== (10,)\n",
      "===2=== 90\n",
      "my_test\n",
      "---my_test function--- 90\n",
      "***************\n",
      "---my_test function--- 90\n"
     ]
    }
   ],
   "source": [
    "def foo(fn):\n",
    "    def bar(*args):\n",
    "        print(\"===1===\",args)\n",
    "        n = args[0]\n",
    "        print(\"===2===\",n*(n-1))\n",
    "        \n",
    "        # see what is the input function\n",
    "        print(fn.__name__)\n",
    "        fn(n*(n-1))\n",
    "        print(\"*\" * 15)\n",
    "        return fn(n*(n-1))\n",
    "    return bar\n",
    "\n",
    "\"\"\"\n",
    "The result of the below decorator equal to foo(my_test)\n",
    "my_test would be replaced(decorated) by foo()'s return\n",
    "so my_test would become the bar() function\n",
    "\"\"\"\n",
    "\n",
    "@foo\n",
    "def my_test(a):\n",
    "    print(\"---my_test function---\",a)\n",
    "\n",
    "# it seems to call my_test function, but actually call bar function\n",
    "my_test(10)"
   ]
  },
  {
   "cell_type": "code",
   "execution_count": 26,
   "metadata": {},
   "outputs": [
    {
     "name": "stdout",
     "output_type": "stream",
     "text": [
      "===1=== (10,)\n",
      "===2=== 90\n",
      "my_test\n",
      "---my_test function--- 90\n",
      "***************\n",
      "---my_test function--- 90\n"
     ]
    }
   ],
   "source": [
    "a = my_test(10)\n",
    "a"
   ]
  },
  {
   "cell_type": "code",
   "execution_count": 27,
   "metadata": {},
   "outputs": [
    {
     "name": "stdout",
     "output_type": "stream",
     "text": [
      "===1=== (6, 5)\n",
      "===2=== 30\n",
      "my_test\n",
      "---my_test function--- 30\n",
      "***************\n",
      "---my_test function--- 30\n"
     ]
    }
   ],
   "source": [
    "my_test(6,5)"
   ]
  },
  {
   "cell_type": "markdown",
   "metadata": {},
   "source": [
    "#### Use the decorator to check the authority."
   ]
  },
  {
   "cell_type": "code",
   "execution_count": 28,
   "metadata": {},
   "outputs": [
    {
     "name": "stdout",
     "output_type": "stream",
     "text": [
      "Authority checking\n",
      "Perform test function, parameter a: 20,  parameter b: 15\n"
     ]
    }
   ],
   "source": [
    "def auth(fn):\n",
    "    def auth_fn(*args):\n",
    "        print(\"Authority checking\")\n",
    "        \n",
    "        # Callback the input function\n",
    "        fn(*args)\n",
    "    return auth_fn\n",
    "\n",
    "@auth\n",
    "def test(a,b):\n",
    "    print(\"Perform test function, parameter a: %s,  parameter b: %s\" %(a,b))\n",
    "\n",
    "# it actually call auth_fn function    \n",
    "test(20,15)"
   ]
  },
  {
   "cell_type": "markdown",
   "metadata": {},
   "source": [
    "## 2.4 Namespace\n",
    "#### In python, every class has their own namespace"
   ]
  },
  {
   "cell_type": "code",
   "execution_count": 29,
   "metadata": {},
   "outputs": [
    {
     "name": "stdout",
     "output_type": "stream",
     "text": [
      "lambda expression, p is: Python\n",
      "lambda expression, p is: <__main__.Category object at 0x00000152A0DDB808>\n"
     ]
    }
   ],
   "source": [
    "global_fn = lambda p: print('lambda expression, p is:',p)\n",
    "\n",
    "class Category:\n",
    "    cate_fn = lambda p: print('lambda expression, p is:',p)\n",
    "    \n",
    "global_fn('Python')\n",
    "c = Category()\n",
    "# When crate a object, python would combine the first parameter automatically\n",
    "c.cate_fn()"
   ]
  }
 ],
 "metadata": {
  "kernelspec": {
   "display_name": "TensorFlow(GPU)",
   "language": "python",
   "name": "tf-gpu"
  },
  "language_info": {
   "codemirror_mode": {
    "name": "ipython",
    "version": 3
   },
   "file_extension": ".py",
   "mimetype": "text/x-python",
   "name": "python",
   "nbconvert_exporter": "python",
   "pygments_lexer": "ipython3",
   "version": "3.7.6"
  }
 },
 "nbformat": 4,
 "nbformat_minor": 4
}
