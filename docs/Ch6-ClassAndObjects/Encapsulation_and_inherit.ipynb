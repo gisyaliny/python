{
 "cells": [
  {
   "cell_type": "markdown",
   "metadata": {},
   "source": [
    "# Encapsulation and inheritance "
   ]
  },
  {
   "cell_type": "markdown",
   "metadata": {},
   "source": [
    "## 1. Encapsulation\n",
    "#### The usage of encapsulation\n",
    "* Users could only use a defined function to access data\n",
    "* Hide the details for class building\n",
    "* Easy for maintenance"
   ]
  },
  {
   "cell_type": "code",
   "execution_count": 5,
   "metadata": {},
   "outputs": [],
   "source": [
    "class User:\n",
    "    def __hide(self):\n",
    "        print('demonstrate hide function')\n",
    "    def getname(self):\n",
    "        return self._name\n",
    "    def setname(self,name):\n",
    "        if len(name) < 3 or len(name) > 8:\n",
    "            raise ValueError('The length of username must between 3 to 8!')\n",
    "        self._name = name\n",
    "    name = property(getname,setname)\n",
    "    \n",
    "    def setage(self,age):\n",
    "        if age<15 or age >75:\n",
    "            raise ValueError('The age of user must between 15 to 75!')\n",
    "        self._age = age\n",
    "    def getage(self):\n",
    "        return self._age\n",
    "    age = property(getage,setage)            "
   ]
  },
  {
   "cell_type": "markdown",
   "metadata": {},
   "source": [
    "**Using encapsulation to ensure the input value is satisfy the requirements**"
   ]
  },
  {
   "cell_type": "code",
   "execution_count": 6,
   "metadata": {},
   "outputs": [
    {
     "ename": "ValueError",
     "evalue": "The length of username must between 3 to 8!",
     "output_type": "error",
     "traceback": [
      "\u001b[1;31m---------------------------------------------------------------------------\u001b[0m",
      "\u001b[1;31mValueError\u001b[0m                                Traceback (most recent call last)",
      "\u001b[1;32m<ipython-input-6-736463a23f57>\u001b[0m in \u001b[0;36m<module>\u001b[1;34m\u001b[0m\n\u001b[0;32m      1\u001b[0m \u001b[0mu\u001b[0m \u001b[1;33m=\u001b[0m \u001b[0mUser\u001b[0m\u001b[1;33m(\u001b[0m\u001b[1;33m)\u001b[0m\u001b[1;33m\u001b[0m\u001b[1;33m\u001b[0m\u001b[0m\n\u001b[1;32m----> 2\u001b[1;33m \u001b[0mu\u001b[0m\u001b[1;33m.\u001b[0m\u001b[0mname\u001b[0m \u001b[1;33m=\u001b[0m \u001b[1;34m'jk'\u001b[0m\u001b[1;33m\u001b[0m\u001b[1;33m\u001b[0m\u001b[0m\n\u001b[0m",
      "\u001b[1;32m<ipython-input-5-66f674df9f8f>\u001b[0m in \u001b[0;36msetname\u001b[1;34m(self, name)\u001b[0m\n\u001b[0;32m      6\u001b[0m     \u001b[1;32mdef\u001b[0m \u001b[0msetname\u001b[0m\u001b[1;33m(\u001b[0m\u001b[0mself\u001b[0m\u001b[1;33m,\u001b[0m\u001b[0mname\u001b[0m\u001b[1;33m)\u001b[0m\u001b[1;33m:\u001b[0m\u001b[1;33m\u001b[0m\u001b[1;33m\u001b[0m\u001b[0m\n\u001b[0;32m      7\u001b[0m         \u001b[1;32mif\u001b[0m \u001b[0mlen\u001b[0m\u001b[1;33m(\u001b[0m\u001b[0mname\u001b[0m\u001b[1;33m)\u001b[0m \u001b[1;33m<\u001b[0m \u001b[1;36m3\u001b[0m \u001b[1;32mor\u001b[0m \u001b[0mlen\u001b[0m\u001b[1;33m(\u001b[0m\u001b[0mname\u001b[0m\u001b[1;33m)\u001b[0m \u001b[1;33m>\u001b[0m \u001b[1;36m8\u001b[0m\u001b[1;33m:\u001b[0m\u001b[1;33m\u001b[0m\u001b[1;33m\u001b[0m\u001b[0m\n\u001b[1;32m----> 8\u001b[1;33m             \u001b[1;32mraise\u001b[0m \u001b[0mValueError\u001b[0m\u001b[1;33m(\u001b[0m\u001b[1;34m'The length of username must between 3 to 8!'\u001b[0m\u001b[1;33m)\u001b[0m\u001b[1;33m\u001b[0m\u001b[1;33m\u001b[0m\u001b[0m\n\u001b[0m\u001b[0;32m      9\u001b[0m         \u001b[0mself\u001b[0m\u001b[1;33m.\u001b[0m\u001b[0m_name\u001b[0m \u001b[1;33m=\u001b[0m \u001b[0mname\u001b[0m\u001b[1;33m\u001b[0m\u001b[1;33m\u001b[0m\u001b[0m\n\u001b[0;32m     10\u001b[0m     \u001b[0mname\u001b[0m \u001b[1;33m=\u001b[0m \u001b[0mproperty\u001b[0m\u001b[1;33m(\u001b[0m\u001b[0mgetname\u001b[0m\u001b[1;33m,\u001b[0m\u001b[0msetname\u001b[0m\u001b[1;33m)\u001b[0m\u001b[1;33m\u001b[0m\u001b[1;33m\u001b[0m\u001b[0m\n",
      "\u001b[1;31mValueError\u001b[0m: The length of username must between 3 to 8!"
     ]
    }
   ],
   "source": [
    "u = User()\n",
    "u.name = 'jk'"
   ]
  },
  {
   "cell_type": "code",
   "execution_count": 7,
   "metadata": {},
   "outputs": [
    {
     "name": "stdout",
     "output_type": "stream",
     "text": [
      "Betty\n",
      "25\n"
     ]
    }
   ],
   "source": [
    "u.name = 'Betty'\n",
    "u.age = 25\n",
    "print(u.name)\n",
    "print(u.age)"
   ]
  },
  {
   "cell_type": "code",
   "execution_count": 9,
   "metadata": {},
   "outputs": [
    {
     "name": "stdout",
     "output_type": "stream",
     "text": [
      "demonstrate hide function\n"
     ]
    }
   ],
   "source": [
    "u._User__hide()"
   ]
  },
  {
   "cell_type": "markdown",
   "metadata": {},
   "source": [
    "## 2. Inheritance\n",
    "#### In python, one subclass could inherit from multiple superclass"
   ]
  },
  {
   "cell_type": "markdown",
   "metadata": {},
   "source": [
    "### 2.1 Basic inheritance"
   ]
  },
  {
   "cell_type": "code",
   "execution_count": 13,
   "metadata": {},
   "outputs": [
    {
     "name": "stdout",
     "output_type": "stream",
     "text": [
      "This fruit has 5.6 gram\n",
      "This is a food!\n"
     ]
    }
   ],
   "source": [
    "class Fruit:\n",
    "    def info(self):\n",
    "        print('This fruit has %g gram' %self.weight)\n",
    "        \n",
    "class Apple(Fruit):\n",
    "    def taste(self):\n",
    "        print('This is a food!')\n",
    "\n",
    "a = Apple()\n",
    "a.weight = 5.6 \n",
    "a.info()\n",
    "a.taste()"
   ]
  },
  {
   "cell_type": "markdown",
   "metadata": {},
   "source": [
    "### 2.2 Multiple superclass\n",
    "* It is not recommended since it would lead to some unknown error."
   ]
  },
  {
   "cell_type": "code",
   "execution_count": 12,
   "metadata": {},
   "outputs": [
    {
     "name": "stdout",
     "output_type": "stream",
     "text": [
      "This fruit has 5.6 gram\n",
      "This is a food!\n"
     ]
    }
   ],
   "source": [
    "class Fruit:\n",
    "    def info(self):\n",
    "        print('This fruit has %g gram' %self.weight)\n",
    "\n",
    "class Food:\n",
    "    def taste(self):\n",
    "        print('This is a food!')\n",
    "        \n",
    "class Apple(Fruit,Food):\n",
    "    pass\n",
    "\n",
    "a = Apple()\n",
    "a.weight = 5.6 \n",
    "a.info()\n",
    "a.taste()"
   ]
  },
  {
   "cell_type": "markdown",
   "metadata": {},
   "source": [
    "### 2.3 Overwrite the function from superclass"
   ]
  },
  {
   "cell_type": "code",
   "execution_count": 15,
   "metadata": {},
   "outputs": [
    {
     "name": "stdout",
     "output_type": "stream",
     "text": [
      "I could only running.\n"
     ]
    }
   ],
   "source": [
    "class Bird:\n",
    "    def fly(self):\n",
    "        print('I am flying!')\n",
    "class Ostrich(Bird):\n",
    "    def fly(self):\n",
    "        print('I could only running.')\n",
    "        \n",
    "os1 = Ostrich()\n",
    "os1.fly()"
   ]
  },
  {
   "cell_type": "markdown",
   "metadata": {},
   "source": [
    "**If you want to use the function in superclass which has been overwritten, you could use the following statement**"
   ]
  },
  {
   "cell_type": "code",
   "execution_count": 16,
   "metadata": {},
   "outputs": [
    {
     "name": "stdout",
     "output_type": "stream",
     "text": [
      "in the bar function\n",
      "foo function in the subclass\n",
      "foo function in the superclass\n"
     ]
    }
   ],
   "source": [
    "class BaseClass:\n",
    "    def foo(self):\n",
    "        print('foo function in the superclass')\n",
    "class SubClass(BaseClass):\n",
    "    def foo(self):\n",
    "        print('foo function in the subclass')\n",
    "    def bar(self):\n",
    "        print('in the bar function')\n",
    "        self.foo()\n",
    "        BaseClass.foo(self)\n",
    "\n",
    "sc = SubClass()\n",
    "sc.bar()"
   ]
  },
  {
   "cell_type": "markdown",
   "metadata": {},
   "source": [
    "### 2.4 Use the `super` function to call the constructor of the superclass\n",
    "* If you want to create a subclass from two or more superclass, you have to overwrite the constructor\n",
    "* In the constructor of the subclass, use `super()` to call the constructor from superclass"
   ]
  },
  {
   "cell_type": "code",
   "execution_count": 18,
   "metadata": {},
   "outputs": [
    {
     "name": "stdout",
     "output_type": "stream",
     "text": [
      "Help on class super in module builtins:\n",
      "\n",
      "class super(object)\n",
      " |  super() -> same as super(__class__, <first argument>)\n",
      " |  super(type) -> unbound super object\n",
      " |  super(type, obj) -> bound super object; requires isinstance(obj, type)\n",
      " |  super(type, type2) -> bound super object; requires issubclass(type2, type)\n",
      " |  Typical use to call a cooperative superclass method:\n",
      " |  class C(B):\n",
      " |      def meth(self, arg):\n",
      " |          super().meth(arg)\n",
      " |  This works for class methods too:\n",
      " |  class C(B):\n",
      " |      @classmethod\n",
      " |      def cmeth(cls, arg):\n",
      " |          super().cmeth(arg)\n",
      " |  \n",
      " |  Methods defined here:\n",
      " |  \n",
      " |  __get__(self, instance, owner, /)\n",
      " |      Return an attribute of instance, which is of type owner.\n",
      " |  \n",
      " |  __getattribute__(self, name, /)\n",
      " |      Return getattr(self, name).\n",
      " |  \n",
      " |  __init__(self, /, *args, **kwargs)\n",
      " |      Initialize self.  See help(type(self)) for accurate signature.\n",
      " |  \n",
      " |  __repr__(self, /)\n",
      " |      Return repr(self).\n",
      " |  \n",
      " |  ----------------------------------------------------------------------\n",
      " |  Static methods defined here:\n",
      " |  \n",
      " |  __new__(*args, **kwargs) from builtins.type\n",
      " |      Create and return a new object.  See help(type) for accurate signature.\n",
      " |  \n",
      " |  ----------------------------------------------------------------------\n",
      " |  Data descriptors defined here:\n",
      " |  \n",
      " |  __self__\n",
      " |      the instance invoking super(); may be None\n",
      " |  \n",
      " |  __self_class__\n",
      " |      the type of the instance invoking super(); may be None\n",
      " |  \n",
      " |  __thisclass__\n",
      " |      the class invoking super()\n",
      "\n"
     ]
    }
   ],
   "source": [
    "help(super)"
   ]
  },
  {
   "cell_type": "code",
   "execution_count": 19,
   "metadata": {},
   "outputs": [
    {
     "name": "stdout",
     "output_type": "stream",
     "text": [
      "--Constructor of Manager---\n",
      "This man is working, with 125000 salary\n",
      "I am a customer, I favorite thing is Python, and my address is Texas\n"
     ]
    }
   ],
   "source": [
    "class Employee:\n",
    "    def __init__(self,salary):\n",
    "        self.salary = salary\n",
    "    def work(self):\n",
    "        print('This man is working, with %s salary' %self.salary)\n",
    "\n",
    "class Customer:\n",
    "    def __init__(self,favorite,address):\n",
    "        self.favorite = favorite\n",
    "        self.address = address\n",
    "    def info(self):\n",
    "        print('I am a customer, I favorite thing is %s, and my address is %s' %(self.favorite, self.address))\n",
    "        \n",
    "class Manager(Employee,Customer):\n",
    "    def __init__(self,salary,favorite,address):\n",
    "        print('--Constructor of Manager---')\n",
    "        super().__init__(salary)\n",
    "        Customer.__init__(self,favorite,address)\n",
    "        \n",
    "m = Manager(125000,'Python','Texas')\n",
    "m.work()\n",
    "m.info()"
   ]
  }
 ],
 "metadata": {
  "kernelspec": {
   "display_name": "TensorFlow(GPU)",
   "language": "python",
   "name": "tf-gpu"
  },
  "language_info": {
   "codemirror_mode": {
    "name": "ipython",
    "version": 3
   },
   "file_extension": ".py",
   "mimetype": "text/x-python",
   "name": "python",
   "nbconvert_exporter": "python",
   "pygments_lexer": "ipython3",
   "version": "3.7.6"
  }
 },
 "nbformat": 4,
 "nbformat_minor": 4
}
