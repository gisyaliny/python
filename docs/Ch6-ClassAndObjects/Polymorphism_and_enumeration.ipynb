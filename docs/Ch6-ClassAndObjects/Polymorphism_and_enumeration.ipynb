{
 "cells": [
  {
   "cell_type": "markdown",
   "metadata": {},
   "source": [
    "# Polymorphism and Enumeration"
   ]
  },
  {
   "cell_type": "markdown",
   "metadata": {},
   "source": [
    "## 1. What is Polymorphism\n",
    "Polymorphism means the ability to take various forms. In Python, Polymorphism allows us to define methods in the child class with the same name as defined in their parent class."
   ]
  },
  {
   "cell_type": "code",
   "execution_count": 1,
   "metadata": {},
   "outputs": [
    {
     "name": "stdout",
     "output_type": "stream",
     "text": [
      "Birds fly in the sky\n",
      "Dogs run on the ground\n"
     ]
    }
   ],
   "source": [
    "class Bird:\n",
    "    def move(self,field):\n",
    "        print('Birds fly in the %s' %field)\n",
    "class Dog:\n",
    "    def move(self,field):\n",
    "        print('Dogs run on the %s' %field)\n",
    "\n",
    "x = Bird()\n",
    "x.move('sky')\n",
    "x = Dog()\n",
    "x.move('ground')"
   ]
  },
  {
   "cell_type": "markdown",
   "metadata": {},
   "source": [
    "**It is very useful when two or more classes correlated with each other**"
   ]
  },
  {
   "cell_type": "code",
   "execution_count": 4,
   "metadata": {},
   "outputs": [
    {
     "name": "stdout",
     "output_type": "stream",
     "text": [
      "---Start Drawing---\n",
      "Draw a rectangle on <__main__.Canvas object at 0x000001D18FD0AD88>\n",
      "---Start Drawing---\n",
      "Draw a triangle on <__main__.Canvas object at 0x000001D18FD0AD88>\n",
      "---Start Drawing---\n",
      "Draw a circle on <__main__.Canvas object at 0x000001D18FD0AD88>\n"
     ]
    }
   ],
   "source": [
    "class Canvas:\n",
    "    def draw_pic(self,shape):\n",
    "        print('---Start Drawing---')\n",
    "        shape.draw(self)\n",
    "        \n",
    "class Rectangle:\n",
    "    def draw(self,canvas):\n",
    "        print('Draw a rectangle on %s' %canvas)\n",
    "class Triangle:\n",
    "    def draw(self,canvas):\n",
    "        print('Draw a triangle on %s' %canvas)\n",
    "class Circle:\n",
    "    def draw(self,canvas):\n",
    "        print('Draw a circle on %s' %canvas)\n",
    "        \n",
    "c = Canvas()\n",
    "c.draw_pic(Rectangle())\n",
    "c.draw_pic(Triangle())\n",
    "c.draw_pic(Circle())"
   ]
  },
  {
   "cell_type": "markdown",
   "metadata": {},
   "source": [
    "## 2. Check the type of instance and class\n",
    "* `issubclass(cls,class_or_tuple)`\n",
    "* `isinstance(obj,class_or_tuple)`"
   ]
  },
  {
   "cell_type": "code",
   "execution_count": 5,
   "metadata": {},
   "outputs": [
    {
     "name": "stdout",
     "output_type": "stream",
     "text": [
      "True\n",
      "True\n",
      "True\n"
     ]
    }
   ],
   "source": [
    "hello = 'Hello'\n",
    "print(isinstance(hello,str))\n",
    "print(isinstance(hello,object))\n",
    "print(issubclass(str,object))"
   ]
  },
  {
   "cell_type": "markdown",
   "metadata": {},
   "source": [
    "**Every class is the subclass of `object`**"
   ]
  },
  {
   "cell_type": "code",
   "execution_count": 6,
   "metadata": {},
   "outputs": [
    {
     "name": "stdout",
     "output_type": "stream",
     "text": [
      "True\n"
     ]
    }
   ],
   "source": [
    "print(issubclass(Rectangle,object))\n",
    "print(issubclass(list,object))"
   ]
  },
  {
   "cell_type": "markdown",
   "metadata": {},
   "source": [
    "* **Python provide `__bases__` to check all the superclasses of the input class**\n",
    "* **Python provide `__subclasses__` to check all the subclasses of the input class**"
   ]
  },
  {
   "cell_type": "code",
   "execution_count": 9,
   "metadata": {},
   "outputs": [
    {
     "name": "stdout",
     "output_type": "stream",
     "text": [
      "(<class 'object'>,)\n",
      "<built-in method __subclasses__ of type object at 0x00007FFD63E04D30>\n"
     ]
    }
   ],
   "source": [
    "print(Rectangle.__bases__)\n",
    "print(list.__subclasses__)"
   ]
  },
  {
   "cell_type": "markdown",
   "metadata": {},
   "source": [
    "## 3. `Enum` in Python\n",
    "Enum is a class in python for creating enumerations, which are a set of symbolic names (members) bound to unique, constant values. The members of an enumeration can be compared by these symbolic anmes, and the enumeration itself can be iterated over.\n",
    "* **for example, you want to create a class named season, it only allow to create 4 instance from this class, then use `enum`**\n",
    "* every member in `enum` have `value` and `name`\n",
    "* Python provide `__members__` to get a dictionary contains all members of `enum`"
   ]
  },
  {
   "cell_type": "code",
   "execution_count": 12,
   "metadata": {},
   "outputs": [],
   "source": [
    "import enum\n",
    "class Orientation(enum.Enum):\n",
    "    East = 'EAST'\n",
    "    South = 'SOUTH'\n",
    "    West = 'WEST'\n",
    "    North = 'NORTH'\n",
    "    def info(self):\n",
    "        print('This is a class about %s' %self.value)"
   ]
  },
  {
   "cell_type": "code",
   "execution_count": 13,
   "metadata": {},
   "outputs": [
    {
     "name": "stdout",
     "output_type": "stream",
     "text": [
      "Orientation.South\n",
      "SOUTH\n",
      "Orientation.West\n",
      "This is a class about EAST\n",
      "None\n"
     ]
    }
   ],
   "source": [
    "print(Orientation.South)\n",
    "print(Orientation.South.value)\n",
    "print(Orientation['West'])\n",
    "print(Orientation.East.info())"
   ]
  },
  {
   "cell_type": "markdown",
   "metadata": {},
   "source": [
    "### 3.1 Constructor of `Enum`"
   ]
  },
  {
   "cell_type": "code",
   "execution_count": 14,
   "metadata": {},
   "outputs": [],
   "source": [
    "import enum\n",
    "class Gender(enum.Enum):\n",
    "    Male = 'male','Strong'\n",
    "    Female = 'female','Beautiful'\n",
    "    def __init__(self,cn_name,desc):\n",
    "        self.__cn_name = cn_name\n",
    "        self.__desc = desc\n",
    "    @property\n",
    "    def desc(self):\n",
    "        return self.__desc\n",
    "    @property\n",
    "    def cn_name(self):\n",
    "        return self.__cn_name"
   ]
  },
  {
   "cell_type": "code",
   "execution_count": 15,
   "metadata": {},
   "outputs": [
    {
     "name": "stdout",
     "output_type": "stream",
     "text": [
      "Female\n",
      "('female', 'Beautiful')\n",
      "female\n",
      "Beautiful\n"
     ]
    }
   ],
   "source": [
    "print(Gender.Female.name)\n",
    "print(Gender.Female.value)\n",
    "print(Gender.Female.cn_name)\n",
    "print(Gender.Female.desc)"
   ]
  }
 ],
 "metadata": {
  "kernelspec": {
   "display_name": "TensorFlow(GPU)",
   "language": "python",
   "name": "tf-gpu"
  },
  "language_info": {
   "codemirror_mode": {
    "name": "ipython",
    "version": 3
   },
   "file_extension": ".py",
   "mimetype": "text/x-python",
   "name": "python",
   "nbconvert_exporter": "python",
   "pygments_lexer": "ipython3",
   "version": "3.7.6"
  }
 },
 "nbformat": 4,
 "nbformat_minor": 4
}
