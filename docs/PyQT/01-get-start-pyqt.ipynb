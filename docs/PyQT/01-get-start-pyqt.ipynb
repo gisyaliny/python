{
 "cells": [
  {
   "cell_type": "markdown",
   "metadata": {},
   "source": [
    "# Getting Started with PyQt6\n",
    "\n",
    "`PyQt6` is a set of Python bindings for the `Qt` application framework.\n",
    "\n",
    "- It allows you to create desktop applications with `Python`.\n"
   ]
  },
  {
   "cell_type": "markdown",
   "metadata": {},
   "source": [
    "## Installation\n",
    "\n",
    "- Before we start, ensure you have PyQt5 installed. You can install it via pip:\n",
    "\n",
    "  ```bash\n",
    "  pip install PyQt6\n",
    "\n",
    "  ```\n"
   ]
  },
  {
   "cell_type": "markdown",
   "metadata": {},
   "source": [
    "## Creating a Simple Window\n",
    "\n",
    "Let's start by creating a simple window. Create a new Python file (`main.py` for example) and add the following code:\n",
    "\n",
    "```python\n",
    "import sys\n",
    "from PyQt6.QtWidgets import QApplication,QWidget\n",
    "\n",
    "app = QApplication(sys.argv)\n",
    "\n",
    "window = QWidget()\n",
    "window.setWindowTitle(\"Test Demo\")\n",
    "window.setGeometry(100,100,300,200) # (x,y,width,height)\n",
    "\n",
    "window.show()\n",
    "\n",
    "sys.exit(app.exec())\n",
    "\n",
    "```\n",
    "\n",
    "- `app = QApplication(sys.argv)`: We create an instance of QApplication. `sys.argv` is a list of command-line arguments.\n",
    "- `window = QWidget()`: We create a QWidget instance, which represents our application's main window.\n",
    "- `sys.exit(app.exec())`: Start the application's event loop and exit gracefully when it's done.\n"
   ]
  },
  {
   "cell_type": "markdown",
   "metadata": {},
   "source": [
    "## Exploring Widgets in PyQt6\n",
    "\n",
    "`PyQt6` offers a wide range of `widgets` that you can use to build interactive graphical user interfaces (GUIs).\n",
    "\n",
    "In this section, we'll explore some commonly used widgets and provide examples of how to use them.\n",
    "\n",
    "### QLabel:\n",
    "\n",
    "`QLabel` is used to display text or images. Here's an example of how to create a `QLabel`:\n",
    "\n",
    "```python\n",
    "from PyQt6.QtWidgets import QApplication,QMainWindow,QLabel\n",
    "app = QApplication(sys.argv)\n",
    "\n",
    "label = QLabel(\"This is a Demo\")\n",
    "\n",
    "window = QMainWindow()\n",
    "window.setCentralWidget(label)\n",
    "window.show()\n",
    "\n",
    "sys.exit(app.exec())\n",
    "\n",
    "```\n",
    "\n",
    "- Customizing Font:\n",
    "  You can customize the `font` used by `QLabel` to make your text stand out. Here's how you can set the font for a QLabel:\n",
    "\n",
    "```python\n",
    "label = QLabel('Hello, PyQt5!')\n",
    "font = QFont('Arial', 16)  # Set font family and size\n",
    "label.setFont(font)\n",
    "```\n"
   ]
  },
  {
   "cell_type": "markdown",
   "metadata": {},
   "source": [
    "### QPushButton:\n",
    "\n",
    "`QPushButton` creates a clickable button. Here's how to create a `QPushButton`:\n"
   ]
  }
 ],
 "metadata": {
  "kernelspec": {
   "display_name": "mybase",
   "language": "python",
   "name": "python3"
  },
  "language_info": {
   "name": "python",
   "version": "3.9.18"
  }
 },
 "nbformat": 4,
 "nbformat_minor": 2
}
